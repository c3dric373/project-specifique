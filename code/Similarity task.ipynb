{
 "cells": [
  {
   "cell_type": "code",
   "execution_count": 6,
   "metadata": {
    "scrolled": true
   },
   "outputs": [],
   "source": [
    "import pandas as pd\n",
    "import numpy as np\n",
    "import nltk\n",
    "df = pd.read_csv('../data/press_all.csv')"
   ]
  },
  {
   "cell_type": "markdown",
   "metadata": {},
   "source": [
    "## Pre processing"
   ]
  },
  {
   "cell_type": "code",
   "execution_count": 11,
   "metadata": {},
   "outputs": [
    {
     "data": {
      "text/html": [
       "<div>\n",
       "<style scoped>\n",
       "    .dataframe tbody tr th:only-of-type {\n",
       "        vertical-align: middle;\n",
       "    }\n",
       "\n",
       "    .dataframe tbody tr th {\n",
       "        vertical-align: top;\n",
       "    }\n",
       "\n",
       "    .dataframe thead th {\n",
       "        text-align: right;\n",
       "    }\n",
       "</style>\n",
       "<table border=\"1\" class=\"dataframe\">\n",
       "  <thead>\n",
       "    <tr style=\"text-align: right;\">\n",
       "      <th></th>\n",
       "      <th>id</th>\n",
       "      <th>siren</th>\n",
       "      <th>url_article</th>\n",
       "      <th>title</th>\n",
       "      <th>text</th>\n",
       "    </tr>\n",
       "  </thead>\n",
       "  <tbody>\n",
       "    <tr>\n",
       "      <th>0</th>\n",
       "      <td>0</td>\n",
       "      <td>572067684</td>\n",
       "      <td>http://www.autoactu.com/?page=2&amp;id_actu=24240&amp;...</td>\n",
       "      <td>autoactu.com - l'information automobile profes...</td>\n",
       "      <td>Bosch recrute des diplômés hautement qualifi...</td>\n",
       "    </tr>\n",
       "    <tr>\n",
       "      <th>1</th>\n",
       "      <td>1</td>\n",
       "      <td>790503973</td>\n",
       "      <td>http://www.ouest-france.fr/bretagne/lannion-22...</td>\n",
       "      <td>You have been blocked</td>\n",
       "      <td>Please enable JS and disable any ad blocker</td>\n",
       "    </tr>\n",
       "    <tr>\n",
       "      <th>2</th>\n",
       "      <td>2</td>\n",
       "      <td>433977980</td>\n",
       "      <td>http://www.businesswire.fr/news/fr/20160308006...</td>\n",
       "      <td>Axway s'associe à Navitas pour accompagner la ...</td>\n",
       "      <td></td>\n",
       "    </tr>\n",
       "    <tr>\n",
       "      <th>3</th>\n",
       "      <td>3</td>\n",
       "      <td>495232373</td>\n",
       "      <td>http://www.next-finance.net/Sofimac-Partners-a...</td>\n",
       "      <td>Marchés Privés - Sofimac Partners apporte 450 ...</td>\n",
       "      <td>Présent au capital de cette jeune entreprise ...</td>\n",
       "    </tr>\n",
       "    <tr>\n",
       "      <th>4</th>\n",
       "      <td>4</td>\n",
       "      <td>572050169</td>\n",
       "      <td>http://rss.usinenouvelle.com/~r/a-la-une/~3/Gs...</td>\n",
       "      <td>Les finances dans le vert, Latécoère veut mode...</td>\n",
       "      <td>\\n\\n\\n\\n \\n\\nIdentifiez-vous\\n L'Usine Aéro P...</td>\n",
       "    </tr>\n",
       "    <tr>\n",
       "      <th>...</th>\n",
       "      <td>...</td>\n",
       "      <td>...</td>\n",
       "      <td>...</td>\n",
       "      <td>...</td>\n",
       "      <td>...</td>\n",
       "    </tr>\n",
       "    <tr>\n",
       "      <th>76509</th>\n",
       "      <td>76509</td>\n",
       "      <td>510050461</td>\n",
       "      <td>https://www.lejsl.com/edition-bresse/2019/10/1...</td>\n",
       "      <td>Sornay | Un salarié prend la succession de Lec...</td>\n",
       "      <td>JOURNAL DE SAÔNE ET LOIRE Conditions généra...</td>\n",
       "    </tr>\n",
       "    <tr>\n",
       "      <th>76510</th>\n",
       "      <td>76510</td>\n",
       "      <td>445720717</td>\n",
       "      <td>https://abonne.lunion.fr/id102153/article/2019...</td>\n",
       "      <td></td>\n",
       "      <td></td>\n",
       "    </tr>\n",
       "    <tr>\n",
       "      <th>76511</th>\n",
       "      <td>76511</td>\n",
       "      <td>480012277</td>\n",
       "      <td>https://www.lemondedudroit.fr/deals/66470-jean...</td>\n",
       "      <td>Jeantet conseille Formel D - LE MONDE DU DROIT...</td>\n",
       "      <td>UTILISATION DES COOKIES : en poursuivant votr...</td>\n",
       "    </tr>\n",
       "    <tr>\n",
       "      <th>76512</th>\n",
       "      <td>76512</td>\n",
       "      <td>414819409</td>\n",
       "      <td>http://www.leparisien.fr/val-de-marne-94/ile-d...</td>\n",
       "      <td>Ile-de-France : à Villeneuve-Saint-Georges, le...</td>\n",
       "      <td>« S'ils veulent nous virer, qu'ils le fassent...</td>\n",
       "    </tr>\n",
       "    <tr>\n",
       "      <th>76513</th>\n",
       "      <td>76513</td>\n",
       "      <td>434004198</td>\n",
       "      <td>https://www.ladepeche.fr/2019/10/15/montauban-...</td>\n",
       "      <td>Montauban : les salariés de la plateforme Téré...</td>\n",
       "      <td>Ce mardi, à 11 heures, 15 salariés de la plat...</td>\n",
       "    </tr>\n",
       "  </tbody>\n",
       "</table>\n",
       "<p>76514 rows × 5 columns</p>\n",
       "</div>"
      ],
      "text/plain": [
       "          id      siren                                        url_article  \\\n",
       "0          0  572067684  http://www.autoactu.com/?page=2&id_actu=24240&...   \n",
       "1          1  790503973  http://www.ouest-france.fr/bretagne/lannion-22...   \n",
       "2          2  433977980  http://www.businesswire.fr/news/fr/20160308006...   \n",
       "3          3  495232373  http://www.next-finance.net/Sofimac-Partners-a...   \n",
       "4          4  572050169  http://rss.usinenouvelle.com/~r/a-la-une/~3/Gs...   \n",
       "...      ...        ...                                                ...   \n",
       "76509  76509  510050461  https://www.lejsl.com/edition-bresse/2019/10/1...   \n",
       "76510  76510  445720717  https://abonne.lunion.fr/id102153/article/2019...   \n",
       "76511  76511  480012277  https://www.lemondedudroit.fr/deals/66470-jean...   \n",
       "76512  76512  414819409  http://www.leparisien.fr/val-de-marne-94/ile-d...   \n",
       "76513  76513  434004198  https://www.ladepeche.fr/2019/10/15/montauban-...   \n",
       "\n",
       "                                                   title  \\\n",
       "0      autoactu.com - l'information automobile profes...   \n",
       "1                                  You have been blocked   \n",
       "2      Axway s'associe à Navitas pour accompagner la ...   \n",
       "3      Marchés Privés - Sofimac Partners apporte 450 ...   \n",
       "4      Les finances dans le vert, Latécoère veut mode...   \n",
       "...                                                  ...   \n",
       "76509  Sornay | Un salarié prend la succession de Lec...   \n",
       "76510                                                      \n",
       "76511  Jeantet conseille Formel D - LE MONDE DU DROIT...   \n",
       "76512  Ile-de-France : à Villeneuve-Saint-Georges, le...   \n",
       "76513  Montauban : les salariés de la plateforme Téré...   \n",
       "\n",
       "                                                    text  \n",
       "0        Bosch recrute des diplômés hautement qualifi...  \n",
       "1            Please enable JS and disable any ad blocker  \n",
       "2                                                         \n",
       "3       Présent au capital de cette jeune entreprise ...  \n",
       "4       \\n\\n\\n\\n \\n\\nIdentifiez-vous\\n L'Usine Aéro P...  \n",
       "...                                                  ...  \n",
       "76509     JOURNAL DE SAÔNE ET LOIRE Conditions généra...  \n",
       "76510                                                     \n",
       "76511   UTILISATION DES COOKIES : en poursuivant votr...  \n",
       "76512   « S'ils veulent nous virer, qu'ils le fassent...  \n",
       "76513   Ce mardi, à 11 heures, 15 salariés de la plat...  \n",
       "\n",
       "[76514 rows x 5 columns]"
      ]
     },
     "execution_count": 11,
     "metadata": {},
     "output_type": "execute_result"
    }
   ],
   "source": [
    "# Replace nan with \"\"\n",
    "df = df.fillna(\"\")\n",
    "df"
   ]
  },
  {
   "cell_type": "code",
   "execution_count": 12,
   "metadata": {},
   "outputs": [
    {
     "data": {
      "text/html": [
       "<div>\n",
       "<style scoped>\n",
       "    .dataframe tbody tr th:only-of-type {\n",
       "        vertical-align: middle;\n",
       "    }\n",
       "\n",
       "    .dataframe tbody tr th {\n",
       "        vertical-align: top;\n",
       "    }\n",
       "\n",
       "    .dataframe thead th {\n",
       "        text-align: right;\n",
       "    }\n",
       "</style>\n",
       "<table border=\"1\" class=\"dataframe\">\n",
       "  <thead>\n",
       "    <tr style=\"text-align: right;\">\n",
       "      <th></th>\n",
       "      <th>id</th>\n",
       "      <th>siren</th>\n",
       "      <th>url_article</th>\n",
       "      <th>title</th>\n",
       "      <th>text</th>\n",
       "    </tr>\n",
       "  </thead>\n",
       "  <tbody>\n",
       "    <tr>\n",
       "      <th>0</th>\n",
       "      <td>0</td>\n",
       "      <td>572067684</td>\n",
       "      <td>http://www.autoactu.com/?page=2&amp;id_actu=24240&amp;...</td>\n",
       "      <td>autoactu.com - l'information automobile profes...</td>\n",
       "      <td>Bosch recrute des diplômés hautement qualifi...</td>\n",
       "    </tr>\n",
       "    <tr>\n",
       "      <th>1</th>\n",
       "      <td>1</td>\n",
       "      <td>790503973</td>\n",
       "      <td>http://www.ouest-france.fr/bretagne/lannion-22...</td>\n",
       "      <td>You have been blocked</td>\n",
       "      <td>Please enable JS and disable any ad blocker</td>\n",
       "    </tr>\n",
       "    <tr>\n",
       "      <th>3</th>\n",
       "      <td>3</td>\n",
       "      <td>495232373</td>\n",
       "      <td>http://www.next-finance.net/Sofimac-Partners-a...</td>\n",
       "      <td>Marchés Privés - Sofimac Partners apporte 450 ...</td>\n",
       "      <td>Présent au capital de cette jeune entreprise ...</td>\n",
       "    </tr>\n",
       "    <tr>\n",
       "      <th>4</th>\n",
       "      <td>4</td>\n",
       "      <td>572050169</td>\n",
       "      <td>http://rss.usinenouvelle.com/~r/a-la-une/~3/Gs...</td>\n",
       "      <td>Les finances dans le vert, Latécoère veut mode...</td>\n",
       "      <td>\\n\\n\\n\\n \\n\\nIdentifiez-vous\\n L'Usine Aéro P...</td>\n",
       "    </tr>\n",
       "    <tr>\n",
       "      <th>5</th>\n",
       "      <td>5</td>\n",
       "      <td>794458075</td>\n",
       "      <td>http://feedproxy.google.com/~r/TracesEcrites/~...</td>\n",
       "      <td>La jeune pousse In’Air Solutions traque les po...</td>\n",
       "      <td>MENU  Bourgogne-Franche-Comté Grand-Est  -   ...</td>\n",
       "    </tr>\n",
       "    <tr>\n",
       "      <th>...</th>\n",
       "      <td>...</td>\n",
       "      <td>...</td>\n",
       "      <td>...</td>\n",
       "      <td>...</td>\n",
       "      <td>...</td>\n",
       "    </tr>\n",
       "    <tr>\n",
       "      <th>76508</th>\n",
       "      <td>76508</td>\n",
       "      <td>493255848</td>\n",
       "      <td>http://www.actu-transport-logistique.fr//dossi...</td>\n",
       "      <td></td>\n",
       "      <td>Transport Supply Chain Magazine  |   Dossier...</td>\n",
       "    </tr>\n",
       "    <tr>\n",
       "      <th>76509</th>\n",
       "      <td>76509</td>\n",
       "      <td>510050461</td>\n",
       "      <td>https://www.lejsl.com/edition-bresse/2019/10/1...</td>\n",
       "      <td>Sornay | Un salarié prend la succession de Lec...</td>\n",
       "      <td>JOURNAL DE SAÔNE ET LOIRE Conditions généra...</td>\n",
       "    </tr>\n",
       "    <tr>\n",
       "      <th>76511</th>\n",
       "      <td>76511</td>\n",
       "      <td>480012277</td>\n",
       "      <td>https://www.lemondedudroit.fr/deals/66470-jean...</td>\n",
       "      <td>Jeantet conseille Formel D - LE MONDE DU DROIT...</td>\n",
       "      <td>UTILISATION DES COOKIES : en poursuivant votr...</td>\n",
       "    </tr>\n",
       "    <tr>\n",
       "      <th>76512</th>\n",
       "      <td>76512</td>\n",
       "      <td>414819409</td>\n",
       "      <td>http://www.leparisien.fr/val-de-marne-94/ile-d...</td>\n",
       "      <td>Ile-de-France : à Villeneuve-Saint-Georges, le...</td>\n",
       "      <td>« S'ils veulent nous virer, qu'ils le fassent...</td>\n",
       "    </tr>\n",
       "    <tr>\n",
       "      <th>76513</th>\n",
       "      <td>76513</td>\n",
       "      <td>434004198</td>\n",
       "      <td>https://www.ladepeche.fr/2019/10/15/montauban-...</td>\n",
       "      <td>Montauban : les salariés de la plateforme Téré...</td>\n",
       "      <td>Ce mardi, à 11 heures, 15 salariés de la plat...</td>\n",
       "    </tr>\n",
       "  </tbody>\n",
       "</table>\n",
       "<p>63847 rows × 5 columns</p>\n",
       "</div>"
      ],
      "text/plain": [
       "          id      siren                                        url_article  \\\n",
       "0          0  572067684  http://www.autoactu.com/?page=2&id_actu=24240&...   \n",
       "1          1  790503973  http://www.ouest-france.fr/bretagne/lannion-22...   \n",
       "3          3  495232373  http://www.next-finance.net/Sofimac-Partners-a...   \n",
       "4          4  572050169  http://rss.usinenouvelle.com/~r/a-la-une/~3/Gs...   \n",
       "5          5  794458075  http://feedproxy.google.com/~r/TracesEcrites/~...   \n",
       "...      ...        ...                                                ...   \n",
       "76508  76508  493255848  http://www.actu-transport-logistique.fr//dossi...   \n",
       "76509  76509  510050461  https://www.lejsl.com/edition-bresse/2019/10/1...   \n",
       "76511  76511  480012277  https://www.lemondedudroit.fr/deals/66470-jean...   \n",
       "76512  76512  414819409  http://www.leparisien.fr/val-de-marne-94/ile-d...   \n",
       "76513  76513  434004198  https://www.ladepeche.fr/2019/10/15/montauban-...   \n",
       "\n",
       "                                                   title  \\\n",
       "0      autoactu.com - l'information automobile profes...   \n",
       "1                                  You have been blocked   \n",
       "3      Marchés Privés - Sofimac Partners apporte 450 ...   \n",
       "4      Les finances dans le vert, Latécoère veut mode...   \n",
       "5      La jeune pousse In’Air Solutions traque les po...   \n",
       "...                                                  ...   \n",
       "76508                                                      \n",
       "76509  Sornay | Un salarié prend la succession de Lec...   \n",
       "76511  Jeantet conseille Formel D - LE MONDE DU DROIT...   \n",
       "76512  Ile-de-France : à Villeneuve-Saint-Georges, le...   \n",
       "76513  Montauban : les salariés de la plateforme Téré...   \n",
       "\n",
       "                                                    text  \n",
       "0        Bosch recrute des diplômés hautement qualifi...  \n",
       "1            Please enable JS and disable any ad blocker  \n",
       "3       Présent au capital de cette jeune entreprise ...  \n",
       "4       \\n\\n\\n\\n \\n\\nIdentifiez-vous\\n L'Usine Aéro P...  \n",
       "5       MENU  Bourgogne-Franche-Comté Grand-Est  -   ...  \n",
       "...                                                  ...  \n",
       "76508    Transport Supply Chain Magazine  |   Dossier...  \n",
       "76509     JOURNAL DE SAÔNE ET LOIRE Conditions généra...  \n",
       "76511   UTILISATION DES COOKIES : en poursuivant votr...  \n",
       "76512   « S'ils veulent nous virer, qu'ils le fassent...  \n",
       "76513   Ce mardi, à 11 heures, 15 salariés de la plat...  \n",
       "\n",
       "[63847 rows x 5 columns]"
      ]
     },
     "execution_count": 12,
     "metadata": {},
     "output_type": "execute_result"
    }
   ],
   "source": [
    "#Delete all articles with length 0 \n",
    "# Get names of articles with length 0\n",
    "indexNames = df[ (df['text']) == \"\" ].index\n",
    "\n",
    "# Delete these row indexes from dataFrame\n",
    "df.drop(indexNames , inplace=True)\n",
    "df"
   ]
  },
  {
   "cell_type": "code",
   "execution_count": 13,
   "metadata": {},
   "outputs": [
    {
     "name": "stdout",
     "output_type": "stream",
     "text": [
      "2020-03-31 06:17:10,424 - spacy_lefff.lefff - INFO - New LefffLemmatizer instantiated.\n",
      "2020-03-31 06:17:10,426 - spacy_lefff.lefff - INFO - Reading lefff data...\n",
      "2020-03-31 06:17:10,908 - spacy_lefff.lefff - INFO - Successfully loaded lefff lemmatizer\n"
     ]
    }
   ],
   "source": [
    "import re\n",
    "import contractions\n",
    "import string\n",
    "from nltk.corpus import stopwords\n",
    "from nltk.tokenize import sent_tokenize \n",
    "from nltk.stem import PorterStemmer\n",
    "from nltk.stem.snowball import FrenchStemmer\n",
    "import spacy\n",
    "from spacy_lefff import LefffLemmatizer, POSTagger\n",
    "\n",
    "nlp = spacy.load('fr')\n",
    "nlp.max_length = 68111459\n",
    "french_lemmatizer = LefffLemmatizer()\n",
    "nlp.add_pipe(french_lemmatizer, name='lefff')\n",
    "translator = str.maketrans('', '', string.punctuation)\n"
   ]
  },
  {
   "cell_type": "code",
   "execution_count": 57,
   "metadata": {},
   "outputs": [],
   "source": [
    "translator = str.maketrans('', '', string.punctuation)\n",
    "\n",
    "# Tokenize text\n",
    "def preprocessing(doc):\n",
    "        result = []\n",
    "        doc = doc.replace('\\n', ' ')\n",
    "        # To lowercase \n",
    "        doc = doc.lower()\n",
    "        # Remove numbers\n",
    "        doc = re.sub(\"\\d+\", \"\", doc)\n",
    "        doc = doc.replace('m€', '')\n",
    "        doc = doc.replace('k€', '')    \n",
    "        sentences = sent_tokenize(doc)\n",
    "        # Lemmentization (same as stemming but based on knowledge base)\n",
    "        for sent in sentences: \n",
    "            # Delete punctuation\n",
    "            sent = sent.translate(translator)\n",
    "            lemmentization = []\n",
    "            doc_ = nlp(sent,disable = ['ner', 'parser'])\n",
    "            for d in doc_:\n",
    "                lemmentization.append(d.lemma_)\n",
    "            lemmentization.append('\\n')\n",
    "            res_ = \" \".join(lemmentization)\n",
    "            result.append(res_)\n",
    "        return result \n",
    "\n",
    "def test(dataframe,index=0):\n",
    "    f = open('data' + str(index) + '.txt' , 'w')\n",
    "    for i,row in dataframe.iterrows():\n",
    "        result = \"\".join(preprocessing((row['text'])))\n",
    "        f.write(result)  # python will convert \\n to os.linesep\n",
    "    f.close()  "
   ]
  },
  {
   "cell_type": "code",
   "execution_count": 58,
   "metadata": {},
   "outputs": [
    {
     "name": "stdout",
     "output_type": "stream",
     "text": [
      "CPU times: user 24.7 ms, sys: 0 ns, total: 24.7 ms\n",
      "Wall time: 24.1 ms\n"
     ]
    }
   ],
   "source": [
    "%%time \n",
    "result = \" \".join(preprocessing((df.text[0])))"
   ]
  },
  {
   "cell_type": "code",
   "execution_count": 59,
   "metadata": {},
   "outputs": [
    {
     "data": {
      "text/plain": [
       "20.0"
      ]
     },
     "execution_count": 59,
     "metadata": {},
     "output_type": "execute_result"
    }
   ],
   "source": [
    "20*60000/1000/60"
   ]
  },
  {
   "cell_type": "code",
   "execution_count": 61,
   "metadata": {},
   "outputs": [
    {
     "name": "stdout",
     "output_type": "stream",
     "text": [
      "CPU times: user 80.9 ms, sys: 121 µs, total: 81.1 ms\n",
      "Wall time: 80.5 ms\n"
     ]
    }
   ],
   "source": [
    "%%time\n",
    "x = [\" \".join(preprocessing(df.text[0])),\"\".join(preprocessing(df.text[1])),\"\".join(preprocessing(df.text[3]))]\n",
    "result = \" \".join(preprocessing((df.text[0])))\n",
    "result\n",
    "\n",
    "f = open('data' + str(0) + '.txt' , 'w')\n",
    "for i in x:\n",
    "    f.write(i)  \n",
    "f.close()"
   ]
  },
  {
   "cell_type": "code",
   "execution_count": null,
   "metadata": {
    "scrolled": true
   },
   "outputs": [],
   "source": [
    "%%time\n",
    "import multiprocessing\n",
    "chunks = np.array_split(df,4)\n",
    "manager = multiprocessing.Manager()\n",
    "threads = []\n",
    "for index,chunk in enumerate(chunks):\n",
    "    thread = multiprocessing.Process(target=test, args=(chunk,index))\n",
    "    thread.start()\n",
    "    threads.append(thread)\n",
    "for thread in threads:\n",
    "    thread.join()\n"
   ]
  },
  {
   "cell_type": "code",
   "execution_count": null,
   "metadata": {},
   "outputs": [],
   "source": [
    "! cat data*.txt > merge"
   ]
  },
  {
   "cell_type": "code",
   "execution_count": null,
   "metadata": {},
   "outputs": [],
   "source": [
    "# Check average length of article \n",
    "df['length'] = df.text.apply(lambda x: len(x))\n",
    "max_ = df.length.max()\n",
    "print(\"Max: {}\".format(max_))\n",
    "min_ = df.length.min()\n",
    "print(\"Min: {}\".format(min_))\n",
    "mean = df.length.mean()\n",
    "print(\"Mean: {}\".format(mean))\n"
   ]
  },
  {
   "cell_type": "code",
   "execution_count": 14,
   "metadata": {},
   "outputs": [],
   "source": [
    "f = open('data.txt', 'w')\n",
    "for i,row in df.iterrows():\n",
    "    f.write(row['text'] + '\\n')  # python will convert \\n to os.linesep\n",
    "f.close()  "
   ]
  },
  {
   "cell_type": "code",
   "execution_count": 1,
   "metadata": {},
   "outputs": [],
   "source": [
    "import fasttext\n",
    "model = fasttext.train_unsupervised('merge',thread=4)"
   ]
  },
  {
   "cell_type": "code",
   "execution_count": 6,
   "metadata": {},
   "outputs": [],
   "source": [
    "import pandas as pd\n",
    "df_mapping = pd.read_csv('../data/siren_name_map.csv')"
   ]
  },
  {
   "cell_type": "code",
   "execution_count": 7,
   "metadata": {},
   "outputs": [],
   "source": [
    "from collections import defaultdict\n",
    "mapping = defaultdict(str)\n",
    "for i,row in df_mapping.iterrows():\n",
    "    mapping[row.siren] = row.legal_name"
   ]
  },
  {
   "cell_type": "code",
   "execution_count": null,
   "metadata": {},
   "outputs": [],
   "source": [
    "df_nearest = pd.DataFrame(columns=['siren', 'legal_name', 'nearest_neighbours'])\n",
    "# Append rows in Empty Dataframe by adding dictionaries\n",
    "#dfObj = dfObj\n",
    "for siren,name in mapping.items():\n",
    "    df_nearest.append({'siren': siren, 'legal_name': name, 'nearest_neighbours': model.get_nearest_neighbors(name,5)}, ignore_index=True)"
   ]
  },
  {
   "cell_type": "code",
   "execution_count": null,
   "metadata": {},
   "outputs": [],
   "source": [
    "df_nearest"
   ]
  },
  {
   "cell_type": "code",
   "execution_count": 1,
   "metadata": {},
   "outputs": [
    {
     "name": "stderr",
     "output_type": "stream",
     "text": [
      "Warning : `load_model` does not return WordVectorModel or SupervisedModel any more, but a `FastText` object which is very similar.\n"
     ]
    }
   ],
   "source": [
    "import fasttext as ft\n",
    "model = ft.load_model('../data/model_unprocessed24-03-2020.bin')"
   ]
  },
  {
   "cell_type": "code",
   "execution_count": 2,
   "metadata": {
    "scrolled": true
   },
   "outputs": [
    {
     "data": {
      "text/plain": [
       "[(0.818486750125885, \"'ipsen',\"),\n",
       " (0.7570090293884277, \"'spindler',\"),\n",
       " (0.7473209500312805, \"'medincell',\"),\n",
       " (0.7468072772026062, \"'genzyme',\"),\n",
       " (0.7457915544509888, \"'deinobiotics',\"),\n",
       " (0.7412319183349609, \"'anti-inflammatoire',\"),\n",
       " (0.7395758628845215, \"'lutathera',\"),\n",
       " (0.7371309399604797, \"'neurone',\"),\n",
       " (0.7369047403335571, \"'herment',\"),\n",
       " (0.7367886304855347, \"'neuroendocrine',\")]"
      ]
     },
     "execution_count": 2,
     "metadata": {},
     "output_type": "execute_result"
    }
   ],
   "source": [
    "model.get_nearest_neighbors('ipsen,5')"
   ]
  },
  {
   "cell_type": "code",
   "execution_count": null,
   "metadata": {},
   "outputs": [],
   "source": [
    "from collections import defaultdict\n",
    "nearest = defaultdict(str)\n",
    "for x in model.get_words():\n",
    "    nearest[x] = model.get_nearest_neighbors(x)"
   ]
  },
  {
   "cell_type": "code",
   "execution_count": null,
   "metadata": {},
   "outputs": [],
   "source": []
  },
  {
   "cell_type": "code",
   "execution_count": null,
   "metadata": {},
   "outputs": [],
   "source": []
  },
  {
   "cell_type": "code",
   "execution_count": null,
   "metadata": {},
   "outputs": [],
   "source": []
  },
  {
   "cell_type": "code",
   "execution_count": null,
   "metadata": {},
   "outputs": [],
   "source": []
  },
  {
   "cell_type": "code",
   "execution_count": null,
   "metadata": {},
   "outputs": [],
   "source": []
  },
  {
   "cell_type": "code",
   "execution_count": null,
   "metadata": {},
   "outputs": [],
   "source": []
  },
  {
   "cell_type": "code",
   "execution_count": null,
   "metadata": {},
   "outputs": [],
   "source": []
  },
  {
   "cell_type": "code",
   "execution_count": null,
   "metadata": {},
   "outputs": [],
   "source": []
  },
  {
   "cell_type": "code",
   "execution_count": null,
   "metadata": {},
   "outputs": [],
   "source": []
  },
  {
   "cell_type": "code",
   "execution_count": null,
   "metadata": {},
   "outputs": [],
   "source": []
  },
  {
   "cell_type": "code",
   "execution_count": null,
   "metadata": {},
   "outputs": [],
   "source": []
  },
  {
   "cell_type": "code",
   "execution_count": null,
   "metadata": {},
   "outputs": [],
   "source": []
  },
  {
   "cell_type": "code",
   "execution_count": null,
   "metadata": {},
   "outputs": [],
   "source": []
  }
 ],
 "metadata": {
  "kernelspec": {
   "display_name": "Python 3",
   "language": "python",
   "name": "python3"
  },
  "language_info": {
   "codemirror_mode": {
    "name": "ipython",
    "version": 3
   },
   "file_extension": ".py",
   "mimetype": "text/x-python",
   "name": "python",
   "nbconvert_exporter": "python",
   "pygments_lexer": "ipython3",
   "version": "3.8.2"
  }
 },
 "nbformat": 4,
 "nbformat_minor": 2
}
