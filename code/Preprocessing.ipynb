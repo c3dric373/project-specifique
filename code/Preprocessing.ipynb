{
 "cells": [
  {
   "cell_type": "markdown",
   "metadata": {},
   "source": [
    "## SetUp directories"
   ]
  },
  {
   "cell_type": "code",
   "execution_count": 8,
   "metadata": {},
   "outputs": [],
   "source": [
    "import os\n",
    "data_directory = '../data/'\n",
    "if(not os.path.exists((data_directory))):\n",
    "     os.makedirs(data_directory)"
   ]
  },
  {
   "cell_type": "markdown",
   "metadata": {},
   "source": [
    "# Preprocessing"
   ]
  },
  {
   "cell_type": "markdown",
   "metadata": {},
   "source": [
    "## SetUp Parameters"
   ]
  },
  {
   "cell_type": "code",
   "execution_count": 9,
   "metadata": {},
   "outputs": [],
   "source": [
    "\n",
    "\n",
    "corpus_file = 'corpus_check_long.csv'\n",
    "corpus_path = data_directory + corpus_file\n",
    "# We will create a temporary file with the results of the preprocessing this file will be deleted after \n",
    "#the execution of the script\n",
    "temp_file_eval = \"../data/evalFile.txt\"\n",
    "\n",
    "# File Name where we will store the training data \n",
    "train_path = data_directory + 'trainFile.txt'\n",
    "\n",
    "# File name where we will store the evaluation data\n",
    "eval_file = data_directory + 'eval.csv'\n",
    "\n",
    "# Prediction File \n",
    "prediction_file = data_directory + 'prediction.csv'\n",
    "\n",
    "# Name of the column storing the article \n",
    "article = 'corpus'\n",
    "\n",
    "utilities_path = '../utilities/'# DataSetPath \n",
    "prediction_path = utilities_path + 'groupC_scrap.obj'\n",
    "prediction_csv_path = utilities_path + 'prediction.csv'"
   ]
  },
  {
   "cell_type": "markdown",
   "metadata": {},
   "source": [
    "## Load Datasets to preprocess"
   ]
  },
  {
   "cell_type": "code",
   "execution_count": 10,
   "metadata": {},
   "outputs": [
    {
     "name": "stdout",
     "output_type": "stream",
     "text": [
      "Loading DataFrames\n"
     ]
    },
    {
     "ename": "FileNotFoundError",
     "evalue": "[Errno 2] File ../data/corpus_check_long.csv does not exist: '../data/corpus_check_long.csv'",
     "output_type": "error",
     "traceback": [
      "\u001b[0;31m---------------------------------------------------------------------------\u001b[0m",
      "\u001b[0;31mFileNotFoundError\u001b[0m                         Traceback (most recent call last)",
      "\u001b[0;32m<ipython-input-10-f9a7a3151ac5>\u001b[0m in \u001b[0;36m<module>\u001b[0;34m\u001b[0m\n\u001b[1;32m      4\u001b[0m \u001b[0mfile\u001b[0m \u001b[0;34m=\u001b[0m \u001b[0mopen\u001b[0m\u001b[0;34m(\u001b[0m\u001b[0mprediction_path\u001b[0m\u001b[0;34m,\u001b[0m \u001b[0;34m'rb'\u001b[0m\u001b[0;34m)\u001b[0m\u001b[0;34m\u001b[0m\u001b[0;34m\u001b[0m\u001b[0m\n\u001b[1;32m      5\u001b[0m \u001b[0mdf_prediction\u001b[0m \u001b[0;34m=\u001b[0m \u001b[0mpd\u001b[0m\u001b[0;34m.\u001b[0m\u001b[0mDataFrame\u001b[0m\u001b[0;34m(\u001b[0m\u001b[0mpickle\u001b[0m\u001b[0;34m.\u001b[0m\u001b[0mload\u001b[0m\u001b[0;34m(\u001b[0m\u001b[0mfile\u001b[0m\u001b[0;34m)\u001b[0m\u001b[0;34m)\u001b[0m\u001b[0;34m\u001b[0m\u001b[0;34m\u001b[0m\u001b[0m\n\u001b[0;32m----> 6\u001b[0;31m \u001b[0mdf\u001b[0m \u001b[0;34m=\u001b[0m \u001b[0mpd\u001b[0m\u001b[0;34m.\u001b[0m\u001b[0mread_csv\u001b[0m\u001b[0;34m(\u001b[0m\u001b[0mcorpus_path\u001b[0m\u001b[0;34m)\u001b[0m\u001b[0;34m\u001b[0m\u001b[0;34m\u001b[0m\u001b[0m\n\u001b[0m",
      "\u001b[0;32m/usr/lib/python3.8/site-packages/pandas/io/parsers.py\u001b[0m in \u001b[0;36mparser_f\u001b[0;34m(filepath_or_buffer, sep, delimiter, header, names, index_col, usecols, squeeze, prefix, mangle_dupe_cols, dtype, engine, converters, true_values, false_values, skipinitialspace, skiprows, skipfooter, nrows, na_values, keep_default_na, na_filter, verbose, skip_blank_lines, parse_dates, infer_datetime_format, keep_date_col, date_parser, dayfirst, cache_dates, iterator, chunksize, compression, thousands, decimal, lineterminator, quotechar, quoting, doublequote, escapechar, comment, encoding, dialect, error_bad_lines, warn_bad_lines, delim_whitespace, low_memory, memory_map, float_precision)\u001b[0m\n\u001b[1;32m    674\u001b[0m         )\n\u001b[1;32m    675\u001b[0m \u001b[0;34m\u001b[0m\u001b[0m\n\u001b[0;32m--> 676\u001b[0;31m         \u001b[0;32mreturn\u001b[0m \u001b[0m_read\u001b[0m\u001b[0;34m(\u001b[0m\u001b[0mfilepath_or_buffer\u001b[0m\u001b[0;34m,\u001b[0m \u001b[0mkwds\u001b[0m\u001b[0;34m)\u001b[0m\u001b[0;34m\u001b[0m\u001b[0;34m\u001b[0m\u001b[0m\n\u001b[0m\u001b[1;32m    677\u001b[0m \u001b[0;34m\u001b[0m\u001b[0m\n\u001b[1;32m    678\u001b[0m     \u001b[0mparser_f\u001b[0m\u001b[0;34m.\u001b[0m\u001b[0m__name__\u001b[0m \u001b[0;34m=\u001b[0m \u001b[0mname\u001b[0m\u001b[0;34m\u001b[0m\u001b[0;34m\u001b[0m\u001b[0m\n",
      "\u001b[0;32m/usr/lib/python3.8/site-packages/pandas/io/parsers.py\u001b[0m in \u001b[0;36m_read\u001b[0;34m(filepath_or_buffer, kwds)\u001b[0m\n\u001b[1;32m    446\u001b[0m \u001b[0;34m\u001b[0m\u001b[0m\n\u001b[1;32m    447\u001b[0m     \u001b[0;31m# Create the parser.\u001b[0m\u001b[0;34m\u001b[0m\u001b[0;34m\u001b[0m\u001b[0;34m\u001b[0m\u001b[0m\n\u001b[0;32m--> 448\u001b[0;31m     \u001b[0mparser\u001b[0m \u001b[0;34m=\u001b[0m \u001b[0mTextFileReader\u001b[0m\u001b[0;34m(\u001b[0m\u001b[0mfp_or_buf\u001b[0m\u001b[0;34m,\u001b[0m \u001b[0;34m**\u001b[0m\u001b[0mkwds\u001b[0m\u001b[0;34m)\u001b[0m\u001b[0;34m\u001b[0m\u001b[0;34m\u001b[0m\u001b[0m\n\u001b[0m\u001b[1;32m    449\u001b[0m \u001b[0;34m\u001b[0m\u001b[0m\n\u001b[1;32m    450\u001b[0m     \u001b[0;32mif\u001b[0m \u001b[0mchunksize\u001b[0m \u001b[0;32mor\u001b[0m \u001b[0miterator\u001b[0m\u001b[0;34m:\u001b[0m\u001b[0;34m\u001b[0m\u001b[0;34m\u001b[0m\u001b[0m\n",
      "\u001b[0;32m/usr/lib/python3.8/site-packages/pandas/io/parsers.py\u001b[0m in \u001b[0;36m__init__\u001b[0;34m(self, f, engine, **kwds)\u001b[0m\n\u001b[1;32m    878\u001b[0m             \u001b[0mself\u001b[0m\u001b[0;34m.\u001b[0m\u001b[0moptions\u001b[0m\u001b[0;34m[\u001b[0m\u001b[0;34m\"has_index_names\"\u001b[0m\u001b[0;34m]\u001b[0m \u001b[0;34m=\u001b[0m \u001b[0mkwds\u001b[0m\u001b[0;34m[\u001b[0m\u001b[0;34m\"has_index_names\"\u001b[0m\u001b[0;34m]\u001b[0m\u001b[0;34m\u001b[0m\u001b[0;34m\u001b[0m\u001b[0m\n\u001b[1;32m    879\u001b[0m \u001b[0;34m\u001b[0m\u001b[0m\n\u001b[0;32m--> 880\u001b[0;31m         \u001b[0mself\u001b[0m\u001b[0;34m.\u001b[0m\u001b[0m_make_engine\u001b[0m\u001b[0;34m(\u001b[0m\u001b[0mself\u001b[0m\u001b[0;34m.\u001b[0m\u001b[0mengine\u001b[0m\u001b[0;34m)\u001b[0m\u001b[0;34m\u001b[0m\u001b[0;34m\u001b[0m\u001b[0m\n\u001b[0m\u001b[1;32m    881\u001b[0m \u001b[0;34m\u001b[0m\u001b[0m\n\u001b[1;32m    882\u001b[0m     \u001b[0;32mdef\u001b[0m \u001b[0mclose\u001b[0m\u001b[0;34m(\u001b[0m\u001b[0mself\u001b[0m\u001b[0;34m)\u001b[0m\u001b[0;34m:\u001b[0m\u001b[0;34m\u001b[0m\u001b[0;34m\u001b[0m\u001b[0m\n",
      "\u001b[0;32m/usr/lib/python3.8/site-packages/pandas/io/parsers.py\u001b[0m in \u001b[0;36m_make_engine\u001b[0;34m(self, engine)\u001b[0m\n\u001b[1;32m   1112\u001b[0m     \u001b[0;32mdef\u001b[0m \u001b[0m_make_engine\u001b[0m\u001b[0;34m(\u001b[0m\u001b[0mself\u001b[0m\u001b[0;34m,\u001b[0m \u001b[0mengine\u001b[0m\u001b[0;34m=\u001b[0m\u001b[0;34m\"c\"\u001b[0m\u001b[0;34m)\u001b[0m\u001b[0;34m:\u001b[0m\u001b[0;34m\u001b[0m\u001b[0;34m\u001b[0m\u001b[0m\n\u001b[1;32m   1113\u001b[0m         \u001b[0;32mif\u001b[0m \u001b[0mengine\u001b[0m \u001b[0;34m==\u001b[0m \u001b[0;34m\"c\"\u001b[0m\u001b[0;34m:\u001b[0m\u001b[0;34m\u001b[0m\u001b[0;34m\u001b[0m\u001b[0m\n\u001b[0;32m-> 1114\u001b[0;31m             \u001b[0mself\u001b[0m\u001b[0;34m.\u001b[0m\u001b[0m_engine\u001b[0m \u001b[0;34m=\u001b[0m \u001b[0mCParserWrapper\u001b[0m\u001b[0;34m(\u001b[0m\u001b[0mself\u001b[0m\u001b[0;34m.\u001b[0m\u001b[0mf\u001b[0m\u001b[0;34m,\u001b[0m \u001b[0;34m**\u001b[0m\u001b[0mself\u001b[0m\u001b[0;34m.\u001b[0m\u001b[0moptions\u001b[0m\u001b[0;34m)\u001b[0m\u001b[0;34m\u001b[0m\u001b[0;34m\u001b[0m\u001b[0m\n\u001b[0m\u001b[1;32m   1115\u001b[0m         \u001b[0;32melse\u001b[0m\u001b[0;34m:\u001b[0m\u001b[0;34m\u001b[0m\u001b[0;34m\u001b[0m\u001b[0m\n\u001b[1;32m   1116\u001b[0m             \u001b[0;32mif\u001b[0m \u001b[0mengine\u001b[0m \u001b[0;34m==\u001b[0m \u001b[0;34m\"python\"\u001b[0m\u001b[0;34m:\u001b[0m\u001b[0;34m\u001b[0m\u001b[0;34m\u001b[0m\u001b[0m\n",
      "\u001b[0;32m/usr/lib/python3.8/site-packages/pandas/io/parsers.py\u001b[0m in \u001b[0;36m__init__\u001b[0;34m(self, src, **kwds)\u001b[0m\n\u001b[1;32m   1889\u001b[0m         \u001b[0mkwds\u001b[0m\u001b[0;34m[\u001b[0m\u001b[0;34m\"usecols\"\u001b[0m\u001b[0;34m]\u001b[0m \u001b[0;34m=\u001b[0m \u001b[0mself\u001b[0m\u001b[0;34m.\u001b[0m\u001b[0musecols\u001b[0m\u001b[0;34m\u001b[0m\u001b[0;34m\u001b[0m\u001b[0m\n\u001b[1;32m   1890\u001b[0m \u001b[0;34m\u001b[0m\u001b[0m\n\u001b[0;32m-> 1891\u001b[0;31m         \u001b[0mself\u001b[0m\u001b[0;34m.\u001b[0m\u001b[0m_reader\u001b[0m \u001b[0;34m=\u001b[0m \u001b[0mparsers\u001b[0m\u001b[0;34m.\u001b[0m\u001b[0mTextReader\u001b[0m\u001b[0;34m(\u001b[0m\u001b[0msrc\u001b[0m\u001b[0;34m,\u001b[0m \u001b[0;34m**\u001b[0m\u001b[0mkwds\u001b[0m\u001b[0;34m)\u001b[0m\u001b[0;34m\u001b[0m\u001b[0;34m\u001b[0m\u001b[0m\n\u001b[0m\u001b[1;32m   1892\u001b[0m         \u001b[0mself\u001b[0m\u001b[0;34m.\u001b[0m\u001b[0munnamed_cols\u001b[0m \u001b[0;34m=\u001b[0m \u001b[0mself\u001b[0m\u001b[0;34m.\u001b[0m\u001b[0m_reader\u001b[0m\u001b[0;34m.\u001b[0m\u001b[0munnamed_cols\u001b[0m\u001b[0;34m\u001b[0m\u001b[0;34m\u001b[0m\u001b[0m\n\u001b[1;32m   1893\u001b[0m \u001b[0;34m\u001b[0m\u001b[0m\n",
      "\u001b[0;32mpandas/_libs/parsers.pyx\u001b[0m in \u001b[0;36mpandas._libs.parsers.TextReader.__cinit__\u001b[0;34m()\u001b[0m\n",
      "\u001b[0;32mpandas/_libs/parsers.pyx\u001b[0m in \u001b[0;36mpandas._libs.parsers.TextReader._setup_parser_source\u001b[0;34m()\u001b[0m\n",
      "\u001b[0;31mFileNotFoundError\u001b[0m: [Errno 2] File ../data/corpus_check_long.csv does not exist: '../data/corpus_check_long.csv'"
     ]
    }
   ],
   "source": [
    "import pickle\n",
    "import pandas as pd\n",
    "print('Loading DataFrames')\n",
    "file = open(prediction_path, 'rb') \n",
    "df_prediction = pd.DataFrame(pickle.load(file))\n",
    "df = pd.read_csv(corpus_path)"
   ]
  },
  {
   "cell_type": "code",
   "execution_count": null,
   "metadata": {},
   "outputs": [],
   "source": [
    "def get_corrupt_data(df):\n",
    "    indexNames = []\n",
    "    for counter,data in enumerate(df.iterrows()):\n",
    "        i, row = data\n",
    "        tmp = df.corpus[i]\n",
    "        if ((\"�\") in tmp) or (len(tmp.split())<50):\n",
    "            indexNames.append(i)\n",
    "    return indexNames\n",
    "    \n"
   ]
  },
  {
   "cell_type": "code",
   "execution_count": null,
   "metadata": {},
   "outputs": [],
   "source": [
    "def filter_dataframe(dataframe):\n",
    "    # Remove corrupt Data and filter articles that have less than 50 words\n",
    "    indexNames = get_corrupt_data(dataframe)  \n",
    "    dataframe.drop(indexNames , inplace=True)\n",
    "    \n",
    "    # Filter companies that have at least 7 articles\n",
    "    top = dataframe[\"siren\"].value_counts()\n",
    "    top = top.where(top>=7).dropna()\n",
    "    topList = list(top.index)\n",
    "    dataframe = dataframe[dataframe[\"siren\"].isin(topList)]\n",
    "    \n",
    "    # Filter articles longer than 1,000,000 characters\n",
    "    dataframe = dataframe[dataframe[article].astype(str).map(len)<1000000]\n",
    "    \n",
    "    return dataframe\n",
    "    \n"
   ]
  },
  {
   "cell_type": "code",
   "execution_count": null,
   "metadata": {},
   "outputs": [],
   "source": [
    "import re\n",
    "import string\n",
    "from nltk.tokenize import sent_tokenize \n",
    "def cleaning(doc):\n",
    "    doc = doc.replace('\\n', ' ')\n",
    "    doc = doc.replace('\\r\\n', ' ')\n",
    "    doc = doc.replace('\\r', ' ')\n",
    "    doc = doc.replace('\\t', ' ')\n",
    "    return doc \n",
    "def remove_numbers(doc):\n",
    "    doc = re.sub(\"\\d+\", \"\", doc)\n",
    "    doc = doc.replace('m€', '')\n",
    "    doc = doc.replace('k€', '')   \n",
    "    return doc\n",
    "# Tokenize text\n",
    "def preprocessing(doc,train=False):\n",
    "        # Translator used to remove punctuation\n",
    "        translator = str.maketrans(' ', ' ', string.punctuation)\n",
    "\n",
    "        # Remove «»\n",
    "        doc = doc.replace(\"«\", \" \")\n",
    "        doc = doc.replace(\"»\", \" \")\n",
    "\n",
    "        # To lowercase \n",
    "        doc = doc.lower()\n",
    "        \n",
    "        # Remove url's\n",
    "        doc = re.sub(r'^https?:\\/\\/.*[\\r\\n]*', ' ', doc, flags=re.MULTILINE)\n",
    "        \n",
    "        # Cleaning\n",
    "        doc = cleaning(doc)\n",
    "        \n",
    "        # Remove numbers\n",
    "        doc = remove_numbers(doc)\n",
    "        \n",
    "    \n",
    "        # Remove multiple wite spaces \n",
    "        doc = re.sub(' +', ' ',doc)\n",
    "        \n",
    "        # Remove unicode breaking character\n",
    "        doc = doc.replace(u'\\xa0', u' ')\n",
    "        \n",
    "        if train: \n",
    "            result = []\n",
    "            sentences = sent_tokenize(doc)\n",
    "            for sent in sentences: \n",
    "                   # Remove punctuation\n",
    "                sent = sent.translate(translator)\n",
    "                sent += \"\\n\"\n",
    "                result.append(sent)\n",
    "            return \"\".join(result)\n",
    "        else:\n",
    "            doc += \"\\n\"\n",
    "            return doc "
   ]
  },
  {
   "cell_type": "code",
   "execution_count": null,
   "metadata": {},
   "outputs": [],
   "source": [
    "def read_file(path):\n",
    "    with open(path) as f:\n",
    "        content = f.readlines()\n",
    "    return content\n",
    "    "
   ]
  },
  {
   "cell_type": "code",
   "execution_count": null,
   "metadata": {},
   "outputs": [],
   "source": [
    "def merge_file(temp_file,path):\n",
    "    subprocess.check_output([\"cat \" + temp_file + \"*\" + ' > ' + path],shell=True)\n",
    "    subprocess.check_output([\"rm \" + temp_file + \"*\"],shell=True)"
   ]
  },
  {
   "cell_type": "code",
   "execution_count": 7,
   "metadata": {},
   "outputs": [],
   "source": [
    "def preprocess_and_write_to_file(dataframe,fileName='data',train=False,index=0):\n",
    "    total_len = (len(dataframe))\n",
    "    third = int(len(dataframe)/3)\n",
    "    f = codecs.open(fileName + str(index) + '.txt' , 'w', 'utf-8')\n",
    "    for counter,data in enumerate(dataframe.iterrows()):\n",
    "        i, row = data\n",
    "        if((counter%third==0) and (index == 0)):\n",
    "            print(\"Thread \" + str(index) + \" processed \" + str(counter) + \"/\" + str(total_len))\n",
    "        preprocessed_text = preprocessing((row[article]),train)\n",
    "        f.write(preprocessed_text)  # python will convert \\n to os.linesep\n",
    "    f.close()  "
   ]
  },
  {
   "cell_type": "code",
   "execution_count": 5,
   "metadata": {},
   "outputs": [],
   "source": [
    "import codecs\n",
    "import multiprocessing\n",
    "import numpy as np\n",
    "import time\n",
    "import subprocess\n",
    "def multi_thread_preprocessing(dataframe,path,train=True,threads=3):\n",
    "    temp_file_name = \"tmp_\"\n",
    "    chunks = np.array_split(dataframe,threads)\n",
    "    manager = multiprocessing.Manager()\n",
    "    threads = []\n",
    "    for index,chunk in enumerate(chunks):\n",
    "        thread = multiprocessing.Process(target=preprocess_and_write_to_file, args=(chunk,temp_file_name,train,index))\n",
    "        thread.start()\n",
    "        threads.append(thread)\n",
    "    for thread in threads:\n",
    "        thread.join()\n",
    "    if(train):\n",
    "        merge_file(temp_file_name,path)\n",
    "    else:\n",
    "        new_df = dataframe.copy()\n",
    "        temp_file_eval = 'eval_file_tmp'\n",
    "        merge_file(temp_file_name,temp_file_eval)\n",
    "        data = read_file(temp_file_eval)\n",
    "        subprocess.run([\"rm\", temp_file_eval])\n",
    "        new_df['corpus'] = data\n",
    "        new_df.to_csv(path)"
   ]
  },
  {
   "cell_type": "markdown",
   "metadata": {},
   "source": [
    "### Filter"
   ]
  },
  {
   "cell_type": "code",
   "execution_count": 6,
   "metadata": {},
   "outputs": [
    {
     "name": "stdout",
     "output_type": "stream",
     "text": [
      "Filtering Dataframes\n"
     ]
    },
    {
     "ename": "NameError",
     "evalue": "name 'filter_dataframe' is not defined",
     "output_type": "error",
     "traceback": [
      "\u001b[0;31m---------------------------------------------------------------------------\u001b[0m",
      "\u001b[0;31mNameError\u001b[0m                                 Traceback (most recent call last)",
      "\u001b[0;32m<ipython-input-6-e24ebb163c11>\u001b[0m in \u001b[0;36m<module>\u001b[0;34m\u001b[0m\n\u001b[1;32m      1\u001b[0m \u001b[0mprint\u001b[0m\u001b[0;34m(\u001b[0m\u001b[0;34m'Filtering Dataframes'\u001b[0m\u001b[0;34m)\u001b[0m\u001b[0;34m\u001b[0m\u001b[0;34m\u001b[0m\u001b[0m\n\u001b[0;32m----> 2\u001b[0;31m \u001b[0mdf\u001b[0m \u001b[0;34m=\u001b[0m \u001b[0mfilter_dataframe\u001b[0m\u001b[0;34m(\u001b[0m\u001b[0mdf\u001b[0m\u001b[0;34m)\u001b[0m\u001b[0;34m\u001b[0m\u001b[0;34m\u001b[0m\u001b[0m\n\u001b[0m\u001b[1;32m      3\u001b[0m \u001b[0mdf_prediction\u001b[0m \u001b[0;34m=\u001b[0m \u001b[0mfilter_dataframe\u001b[0m\u001b[0;34m(\u001b[0m\u001b[0mdf_prediction\u001b[0m\u001b[0;34m)\u001b[0m\u001b[0;34m\u001b[0m\u001b[0;34m\u001b[0m\u001b[0m\n",
      "\u001b[0;31mNameError\u001b[0m: name 'filter_dataframe' is not defined"
     ]
    }
   ],
   "source": [
    "print('Filtering Dataframes')\n",
    "df = filter_dataframe(df)\n",
    "df_prediction = filter_dataframe(df_prediction)"
   ]
  },
  {
   "cell_type": "markdown",
   "metadata": {},
   "source": [
    "### Preprocessing"
   ]
  },
  {
   "cell_type": "code",
   "execution_count": 199,
   "metadata": {
    "scrolled": true
   },
   "outputs": [
    {
     "name": "stdout",
     "output_type": "stream",
     "text": [
      "Thread 0 processed 0/6432\n",
      "Thread 1 processed 0/6432\n",
      "Thread 2 processed 0/6431\n",
      "Thread 0 processed 2144/6432\n",
      "Thread 2 processed 2143/6431\n",
      "Thread 1 processed 2144/6432\n",
      "Thread 0 processed 4288/6432\n",
      "Thread 2 processed 4286/6431\n",
      "Thread 1 processed 4288/6432\n",
      "Thread 2 processed 6429/6431\n"
     ]
    }
   ],
   "source": [
    "print('Preprocessing Training File')\n",
    "multi_thread_preprocessing(df,train_path,train=True)"
   ]
  },
  {
   "cell_type": "code",
   "execution_count": 198,
   "metadata": {
    "scrolled": true
   },
   "outputs": [
    {
     "name": "stdout",
     "output_type": "stream",
     "text": [
      "Thread 0 processed 0/6432\n",
      "Thread 1 processed 0/6432\n",
      "Thread 2 processed 0/6431\n",
      "Thread 0 processed 2144/6432\n",
      "Thread 1 processed 2144/6432\n",
      "Thread 2 processed 2143/6431\n",
      "Thread 0 processed 4288/6432\n",
      "Thread 2 processed 4286/6431\n",
      "Thread 1 processed 4288/6432\n",
      "Thread 2 processed 6429/6431\n",
      "19295\n"
     ]
    }
   ],
   "source": [
    "print('Preprocessing Eval File')\n",
    "multi_thread_preprocessing(df,eval_file,train=False)"
   ]
  },
  {
   "cell_type": "code",
   "execution_count": 197,
   "metadata": {
    "scrolled": false
   },
   "outputs": [
    {
     "name": "stdout",
     "output_type": "stream",
     "text": [
      "Thread 0 processed 0/845\n",
      "Thread 1 processed 0/845\n",
      "Thread 2 processed 0/845\n",
      "Thread 0 processed 281/845\n",
      "Thread 2 processed 281/845\n",
      "Thread 1 processed 281/845\n",
      "Thread 0 processed 562/845\n",
      "Thread 2 processed 562/845\n",
      "Thread 1 processed 562/845\n",
      "Thread 2 processed 843/845\n",
      "Thread 0 processed 843/845\n",
      "Thread 1 processed 843/845\n",
      "2535\n"
     ]
    }
   ],
   "source": [
    "print('Preprocessing Prediction File')\n",
    "multi_thread_preprocessing(df_prediction,prediction_file,train=False)"
   ]
  },
  {
   "cell_type": "code",
   "execution_count": null,
   "metadata": {},
   "outputs": [],
   "source": []
  }
 ],
 "metadata": {
  "kernelspec": {
   "display_name": "Python 3",
   "language": "python",
   "name": "python3"
  },
  "language_info": {
   "codemirror_mode": {
    "name": "ipython",
    "version": 3
   },
   "file_extension": ".py",
   "mimetype": "text/x-python",
   "name": "python",
   "nbconvert_exporter": "python",
   "pygments_lexer": "ipython3",
   "version": "3.8.2"
  }
 },
 "nbformat": 4,
 "nbformat_minor": 2
}
