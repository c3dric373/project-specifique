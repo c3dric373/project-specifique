{
 "cells": [
  {
   "cell_type": "markdown",
   "metadata": {},
   "source": [
    "## SetUp directories"
   ]
  },
  {
   "cell_type": "code",
   "execution_count": 4,
   "metadata": {},
   "outputs": [],
   "source": [
    "import os\n",
    "data_directory = '../data/'\n",
    "if(not os.path.exists((data_directory))):\n",
    "     os.makedirs(data_directory)"
   ]
  },
  {
   "cell_type": "markdown",
   "metadata": {},
   "source": [
    "# Preprocessing"
   ]
  },
  {
   "cell_type": "markdown",
   "metadata": {},
   "source": [
    "## SetUp Parameters"
   ]
  },
  {
   "cell_type": "code",
   "execution_count": 14,
   "metadata": {},
   "outputs": [],
   "source": [
    "# DataSetPath \n",
    "prediction_path = utilities_path + 'groupC_scrap.obj'\n",
    "prediction_csv_path = utilities_path + 'prediction.csv'\n",
    "\n",
    "corpus_file = 'corpus_check_long.csv'\n",
    "corpus_path = data_directory + corpus_file\n",
    "# We will create a temporary file with the results of the preprocessing this file will be deleted after \n",
    "#the execution of the script\n",
    "temp_file_eval = \"../data/evalFile.txt\"\n",
    "\n",
    "# File Name where we will store the training data \n",
    "train_path = data_directory + 'trainFile.txt'\n",
    "\n",
    "# File name where we will store the evaluation data\n",
    "eval_file = data_directory + 'eval.csv'\n",
    "\n",
    "# Name of the column storing the article \n",
    "article = 'corpus'\n",
    "\n",
    "utilities_path = '../utilities/'\n"
   ]
  },
  {
   "cell_type": "markdown",
   "metadata": {},
   "source": [
    "## Load Datasets to preprocess"
   ]
  },
  {
   "cell_type": "code",
   "execution_count": null,
   "metadata": {},
   "outputs": [],
   "source": [
    "import pickle\n",
    "import pandas as pd\n",
    "file = open(prediction_path, 'rb') \n",
    "df_prediction = pd.DataFrame(pickle.load(file))\n",
    "df = pd.read_csv(corpus_path)"
   ]
  },
  {
   "cell_type": "code",
   "execution_count": 62,
   "metadata": {},
   "outputs": [],
   "source": [
    "def get_corrupt_data(df):\n",
    "    indexNames = []\n",
    "    for counter,data in enumerate(df.iterrows()):\n",
    "        i, row = data\n",
    "        tmp = df.corpus[i]\n",
    "        if (\"�\") in tmp:\n",
    "            indexNames.append(i)\n",
    "    return indexNames\n",
    "    \n"
   ]
  },
  {
   "cell_type": "code",
   "execution_count": null,
   "metadata": {},
   "outputs": [],
   "source": [
    "def filter_dataframe(df):\n",
    "    # Remove corrupt Data\n",
    "    indexNames = get_corrupt_data(df)  \n",
    "    df.drop(indexNames , inplace=True)\n",
    "    \n",
    "    # Filter companies that have at least 7 articles\n",
    "    top = df[\"siren\"].value_counts()\n",
    "    top = top.where(top>=7).dropna()\n",
    "    topList = list(top.index)\n",
    "    df = df[df[\"siren\"].isin(topList)]\n",
    "    \n",
    "    # Filter articles longer than 1,000,000 characters\n",
    "    df = df[df[article].astype(str).map(len)<1000000]\n",
    "    \n",
    "    # Filter articles that have less than 50 words\n",
    "    \n"
   ]
  },
  {
   "cell_type": "code",
   "execution_count": 66,
   "metadata": {},
   "outputs": [],
   "source": [
    "import re\n",
    "import string\n",
    "from nltk.tokenize import sent_tokenize \n",
    "def cleaning(doc):\n",
    "    doc = doc.replace('\\n', ' ')\n",
    "    doc = doc.replace('\\r\\n', ' ')\n",
    "    doc = doc.replace('\\r', ' ')\n",
    "    doc = doc.replace('\\t', ' ')\n",
    "    return doc \n",
    "def remove_numbers(doc):\n",
    "    doc = re.sub(\"\\d+\", \"\", doc)\n",
    "    doc = doc.replace('m€', '')\n",
    "    doc = doc.replace('k€', '')   \n",
    "    return doc\n",
    "# Tokenize text\n",
    "def preprocessing(doc,train=False):\n",
    "        # Translator used to remove punctuation\n",
    "        translator = str.maketrans(' ', ' ', string.punctuation)\n",
    "\n",
    "        # Remove «»\n",
    "        doc = doc.replace(\"«\", \" \")\n",
    "        doc = doc.replace(\"»\", \" \")\n",
    "\n",
    "        # To lowercase \n",
    "        doc = doc.lower()\n",
    "        \n",
    "        # Remove url's\n",
    "        doc = re.sub(r'^https?:\\/\\/.*[\\r\\n]*', ' ', doc, flags=re.MULTILINE)\n",
    "        \n",
    "        # Cleaning\n",
    "        doc = cleaning(doc)\n",
    "        \n",
    "        # Remove numbers\n",
    "        doc = remove_numbers(doc)\n",
    "        \n",
    "    \n",
    "        # Remove multiple wite spaces \n",
    "        doc = re.sub(' +', ' ',doc)\n",
    "        \n",
    "        # Remove unicode breaking character\n",
    "        doc = doc.replace(u'\\xa0', u' ')\n",
    "        \n",
    "        if train: \n",
    "            result = []\n",
    "            sentences = sent_tokenize(doc)\n",
    "            for sent in sentences: \n",
    "                   # Remove punctuation\n",
    "                sent = sent.translate(translator)\n",
    "                sent += \"\\n\"\n",
    "                result.append(sent)\n",
    "            return \"\".join(result)\n",
    "        else:\n",
    "            doc += \"\\n\"\n",
    "            return doc "
   ]
  },
  {
   "cell_type": "code",
   "execution_count": 67,
   "metadata": {},
   "outputs": [],
   "source": [
    "def preprocess_and_write_to_file(dataframe,fileName='data',train=False,index=0):\n",
    "    f = codecs.open(fileName + str(index) + '.txt' , 'w', 'utf-8')\n",
    "    for counter,data in enumerate(dataframe.iterrows()):\n",
    "        i, row = data\n",
    "        if(counter%5000==0):\n",
    "            print(\"Thread \" + str(index) + \"processed \" + str(counter) + \"/\" + str(dataframe.count()))\n",
    "        preprocessed_text = preprocessing((row[article]),train)\n",
    "        f.write(preprocessed_text)  # python will convert \\n to os.linesep\n",
    "    f.close()  "
   ]
  },
  {
   "cell_type": "code",
   "execution_count": 70,
   "metadata": {},
   "outputs": [],
   "source": [
    "def read_file(path):\n",
    "    with open(path) as f:\n",
    "        content = f.readlines()\n",
    "    return content\n",
    "    "
   ]
  },
  {
   "cell_type": "code",
   "execution_count": null,
   "metadata": {},
   "outputs": [],
   "source": [
    "def merge_file(temp_file,path):\n",
    "    subprocess.check_output([\"cat \" + tempfile + \"*\" + ' > ' + path],shell=True)\n",
    "    subprocess.check_output([\"rm \" + tempfile + \"*\"],shell=True)"
   ]
  },
  {
   "cell_type": "code",
   "execution_count": 1,
   "metadata": {},
   "outputs": [],
   "source": [
    "import codecs\n",
    "import multiprocessing\n",
    "import numpy as np\n",
    "def multi_thread_preprocessing(dataframe,fileName,train=True,threads=4):\n",
    "    temp_file_name = \"tmp_\"\n",
    "    chunks = np.array_split(df,3)\n",
    "    manager = multiprocessing.Manager()\n",
    "    threads = []\n",
    "    for index,chunk in enumerate(chunks):\n",
    "        thread = multiprocessing.Process(target=preprocess_and_write_to_file, args=(chunk,fileName=temp_file_name,train,index))\n",
    "        thread.start()\n",
    "        threads.append(thread)\n",
    "    for thread in threads:\n",
    "        thread.join()\n",
    "    if(train):\n",
    "        merge_file(temp_file_name,path)\n",
    "    else:\n",
    "        temp_file_eval = 'tmp_eval_file'\n",
    "        merge_file(temp_file_name,temp_file_eval)\n",
    "        data = read_file(temp_file_eval)\n",
    "        subprocess.run([\"rm\", temp_file_eval])\n",
    "        df['preprocessedCorpus'] = data\n",
    "        del df['id']\n",
    "        del df['corpus']\n",
    "        df = df.rename({'preprocessedCorpus': article}, axis='columns')\n",
    "        df.to_csv(eval_file)"
   ]
  },
  {
   "cell_type": "code",
   "execution_count": null,
   "metadata": {},
   "outputs": [],
   "source": [
    "filter_dataframe(df)\n",
    "filter_dataframe(df_prediction)\n",
    "multi_thread_preprocessing(df,train_path,train=True)\n",
    "multi_thread_preprocessing(df,temp_file_eval,train=False)\n",
    "multi_thread_preprocessing(df_prediction,,train=False)"
   ]
  }
 ],
 "metadata": {
  "kernelspec": {
   "display_name": "Python 3",
   "language": "python",
   "name": "python3"
  },
  "language_info": {
   "codemirror_mode": {
    "name": "ipython",
    "version": 3
   },
   "file_extension": ".py",
   "mimetype": "text/x-python",
   "name": "python",
   "nbconvert_exporter": "python",
   "pygments_lexer": "ipython3",
   "version": "3.8.2"
  }
 },
 "nbformat": 4,
 "nbformat_minor": 2
}
