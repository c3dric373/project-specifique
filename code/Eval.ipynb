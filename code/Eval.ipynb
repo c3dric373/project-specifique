{
 "cells": [
  {
   "cell_type": "markdown",
   "metadata": {},
   "source": [
    "## SetUp Parameters"
   ]
  },
  {
   "cell_type": "code",
   "execution_count": 129,
   "metadata": {},
   "outputs": [],
   "source": [
    "print('Starting Evaluation')\n",
    "utilities_path = '../utilities/'\n",
    "model_path = '../models/'\n",
    "data_path = '../data/'\n",
    "results_path = '../results/'"
   ]
  },
  {
   "cell_type": "code",
   "execution_count": 134,
   "metadata": {},
   "outputs": [],
   "source": [
    "from datetime import datetime\n",
    "# datetime object containing current date and time\n",
    "now = datetime.now()\n",
    "dt_string = now.strftime(\"%d-%m-%Y\")\n",
    "#dt_string = \"13-05-2020\"\n",
    "global_path = \"../models/\"\n",
    "model_path = \".model\"\n",
    "txt_extension = \".txt\"\n",
    "path_ft =  global_path + \"ft_\"+ dt_string + txt_extension\n",
    "path_w2v =  global_path + \"w2v_\"+ dt_string + model_path\n",
    "path_glove = global_path + \"gloVe_\"+ dt_string + txt_extension"
   ]
  },
  {
   "cell_type": "markdown",
   "metadata": {},
   "source": [
    "### Import Models"
   ]
  },
  {
   "cell_type": "code",
   "execution_count": 135,
   "metadata": {},
   "outputs": [],
   "source": [
    "from gensim.test.utils import common_texts, get_tmpfile,datapath\n",
    "from gensim.scripts.glove2word2vec import glove2word2vec\n",
    "from gensim.models import KeyedVectors\n",
    "model_ft = KeyedVectors.load_word2vec_format(path_ft)"
   ]
  },
  {
   "cell_type": "code",
   "execution_count": 136,
   "metadata": {
    "scrolled": true
   },
   "outputs": [],
   "source": [
    "from gensim.test.utils import common_texts, get_tmpfile,datapath\n",
    "from gensim.models import Word2Vec\n",
    "path = get_tmpfile(path_w2v)\n",
    "model_w2v = Word2Vec.load(path_w2v)\n",
    "model_w2v = model_w2v.wv"
   ]
  },
  {
   "cell_type": "code",
   "execution_count": 137,
   "metadata": {},
   "outputs": [],
   "source": [
    "from gensim.test.utils import common_texts, get_tmpfile,datapath\n",
    "from gensim.scripts.glove2word2vec import glove2word2vec\n",
    "from gensim.models import KeyedVectors\n",
    "model_glove = KeyedVectors.load_word2vec_format(path_glove)"
   ]
  },
  {
   "cell_type": "markdown",
   "metadata": {},
   "source": [
    "### Import DataSet"
   ]
  },
  {
   "cell_type": "code",
   "execution_count": 139,
   "metadata": {
    "scrolled": true
   },
   "outputs": [],
   "source": [
    "import pandas as pd \n",
    "df = pd.read_csv('../data/eval.csv')"
   ]
  },
  {
   "cell_type": "code",
   "execution_count": 140,
   "metadata": {},
   "outputs": [],
   "source": [
    "#df = (df[(df['legal_name'] == \"THERADIAG SA\")])\n",
    "#df=df.sample(10)"
   ]
  },
  {
   "cell_type": "code",
   "execution_count": 141,
   "metadata": {},
   "outputs": [
    {
     "data": {
      "text/html": [
       "<div>\n",
       "<style scoped>\n",
       "    .dataframe tbody tr th:only-of-type {\n",
       "        vertical-align: middle;\n",
       "    }\n",
       "\n",
       "    .dataframe tbody tr th {\n",
       "        vertical-align: top;\n",
       "    }\n",
       "\n",
       "    .dataframe thead th {\n",
       "        text-align: right;\n",
       "    }\n",
       "</style>\n",
       "<table border=\"1\" class=\"dataframe\">\n",
       "  <thead>\n",
       "    <tr style=\"text-align: right;\">\n",
       "      <th></th>\n",
       "      <th>Unnamed: 0</th>\n",
       "      <th>siren</th>\n",
       "      <th>legal_name</th>\n",
       "      <th>id</th>\n",
       "      <th>url_article</th>\n",
       "      <th>corpus</th>\n",
       "    </tr>\n",
       "  </thead>\n",
       "  <tbody>\n",
       "    <tr>\n",
       "      <th>0</th>\n",
       "      <td>1</td>\n",
       "      <td>419838529</td>\n",
       "      <td>IPSEN</td>\n",
       "      <td>2894</td>\n",
       "      <td>http://www.boursier.com/actions/actualites/new...</td>\n",
       "      <td>ipsen : accord important avec probi publié le ...</td>\n",
       "    </tr>\n",
       "    <tr>\n",
       "      <th>1</th>\n",
       "      <td>2</td>\n",
       "      <td>419838529</td>\n",
       "      <td>IPSEN</td>\n",
       "      <td>3057</td>\n",
       "      <td>http://www.boursier.com/actions/actualites/new...</td>\n",
       "      <td>la médecine générale d'ipsen en panne au er tr...</td>\n",
       "    </tr>\n",
       "    <tr>\n",
       "      <th>2</th>\n",
       "      <td>5</td>\n",
       "      <td>419838529</td>\n",
       "      <td>IPSEN</td>\n",
       "      <td>7375</td>\n",
       "      <td>http://www.boursier.com/actions/actualites/new...</td>\n",
       "      <td>ipsen : david meek rejoint le groupe en qualit...</td>\n",
       "    </tr>\n",
       "    <tr>\n",
       "      <th>3</th>\n",
       "      <td>7</td>\n",
       "      <td>419838529</td>\n",
       "      <td>IPSEN</td>\n",
       "      <td>10659</td>\n",
       "      <td>http://www.latribune.fr/entreprises-finance/in...</td>\n",
       "      <td>le français ipsen ne veut pas rater le train d...</td>\n",
       "    </tr>\n",
       "    <tr>\n",
       "      <th>4</th>\n",
       "      <td>8</td>\n",
       "      <td>419838529</td>\n",
       "      <td>IPSEN</td>\n",
       "      <td>12797</td>\n",
       "      <td>http://www.boursier.com/actions/actualites/new...</td>\n",
       "      <td>ipsen affiche une croissance des ventes de ,% ...</td>\n",
       "    </tr>\n",
       "    <tr>\n",
       "      <th>...</th>\n",
       "      <td>...</td>\n",
       "      <td>...</td>\n",
       "      <td>...</td>\n",
       "      <td>...</td>\n",
       "      <td>...</td>\n",
       "      <td>...</td>\n",
       "    </tr>\n",
       "    <tr>\n",
       "      <th>19290</th>\n",
       "      <td>56749</td>\n",
       "      <td>337080089</td>\n",
       "      <td>FCN</td>\n",
       "      <td>52705</td>\n",
       "      <td>https://www.fcn.fr/Page/Juriste-Junior-Droit-S...</td>\n",
       "      <td>cette page n'existe plus sur le site - groupe ...</td>\n",
       "    </tr>\n",
       "    <tr>\n",
       "      <th>19291</th>\n",
       "      <td>56750</td>\n",
       "      <td>337080089</td>\n",
       "      <td>FCN</td>\n",
       "      <td>53160</td>\n",
       "      <td>https://twitter.com/CabinetFCN/status/10571748...</td>\n",
       "      <td>cabinet fcn sur twitter : \"#fcn #comptable #re...</td>\n",
       "    </tr>\n",
       "    <tr>\n",
       "      <th>19292</th>\n",
       "      <td>56751</td>\n",
       "      <td>337080089</td>\n",
       "      <td>FCN</td>\n",
       "      <td>56724</td>\n",
       "      <td>https://www.fcn.fr/Page/Secretaire-comptable--...</td>\n",
       "      <td>cette page n'existe plus sur le site - groupe ...</td>\n",
       "    </tr>\n",
       "    <tr>\n",
       "      <th>19293</th>\n",
       "      <td>56752</td>\n",
       "      <td>337080089</td>\n",
       "      <td>FCN</td>\n",
       "      <td>57545</td>\n",
       "      <td>https://www.fcn.fr/Page/Collaborateur-comptabl...</td>\n",
       "      <td>cette page n'existe plus sur le site - groupe ...</td>\n",
       "    </tr>\n",
       "    <tr>\n",
       "      <th>19294</th>\n",
       "      <td>56753</td>\n",
       "      <td>337080089</td>\n",
       "      <td>FCN</td>\n",
       "      <td>58607</td>\n",
       "      <td>https://www.fcn.fr/Page/Secretaire-juridique--...</td>\n",
       "      <td>cette page n'existe plus sur le site - groupe ...</td>\n",
       "    </tr>\n",
       "  </tbody>\n",
       "</table>\n",
       "<p>19295 rows × 6 columns</p>\n",
       "</div>"
      ],
      "text/plain": [
       "       Unnamed: 0      siren legal_name     id  \\\n",
       "0               1  419838529      IPSEN   2894   \n",
       "1               2  419838529      IPSEN   3057   \n",
       "2               5  419838529      IPSEN   7375   \n",
       "3               7  419838529      IPSEN  10659   \n",
       "4               8  419838529      IPSEN  12797   \n",
       "...           ...        ...        ...    ...   \n",
       "19290       56749  337080089        FCN  52705   \n",
       "19291       56750  337080089        FCN  53160   \n",
       "19292       56751  337080089        FCN  56724   \n",
       "19293       56752  337080089        FCN  57545   \n",
       "19294       56753  337080089        FCN  58607   \n",
       "\n",
       "                                             url_article  \\\n",
       "0      http://www.boursier.com/actions/actualites/new...   \n",
       "1      http://www.boursier.com/actions/actualites/new...   \n",
       "2      http://www.boursier.com/actions/actualites/new...   \n",
       "3      http://www.latribune.fr/entreprises-finance/in...   \n",
       "4      http://www.boursier.com/actions/actualites/new...   \n",
       "...                                                  ...   \n",
       "19290  https://www.fcn.fr/Page/Juriste-Junior-Droit-S...   \n",
       "19291  https://twitter.com/CabinetFCN/status/10571748...   \n",
       "19292  https://www.fcn.fr/Page/Secretaire-comptable--...   \n",
       "19293  https://www.fcn.fr/Page/Collaborateur-comptabl...   \n",
       "19294  https://www.fcn.fr/Page/Secretaire-juridique--...   \n",
       "\n",
       "                                                  corpus  \n",
       "0      ipsen : accord important avec probi publié le ...  \n",
       "1      la médecine générale d'ipsen en panne au er tr...  \n",
       "2      ipsen : david meek rejoint le groupe en qualit...  \n",
       "3      le français ipsen ne veut pas rater le train d...  \n",
       "4      ipsen affiche une croissance des ventes de ,% ...  \n",
       "...                                                  ...  \n",
       "19290  cette page n'existe plus sur le site - groupe ...  \n",
       "19291  cabinet fcn sur twitter : \"#fcn #comptable #re...  \n",
       "19292  cette page n'existe plus sur le site - groupe ...  \n",
       "19293  cette page n'existe plus sur le site - groupe ...  \n",
       "19294  cette page n'existe plus sur le site - groupe ...  \n",
       "\n",
       "[19295 rows x 6 columns]"
      ]
     },
     "execution_count": 141,
     "metadata": {},
     "output_type": "execute_result"
    }
   ],
   "source": [
    "df"
   ]
  },
  {
   "cell_type": "code",
   "execution_count": 142,
   "metadata": {},
   "outputs": [],
   "source": [
    "# Add columns to store results\n",
    "\n",
    "df['eval_set_w2v'] = \"\"\n",
    "df['eval_set_ft'] = \"\"\n",
    "df['eval_set_glove'] = \"\"\n",
    "df['eval_number_w2v'] = \"\"\n",
    "df['eval_number_ft'] = \"\"\n",
    "df['eval_number_glove'] = \"\"\n",
    "df['corpus'] = df['corpus'].apply(lambda corpus: set(corpus.split(\" \")))"
   ]
  },
  {
   "cell_type": "code",
   "execution_count": 143,
   "metadata": {},
   "outputs": [],
   "source": [
    "# Get name of all companies in eval dataset \n",
    "vocab = set(df.legal_name)"
   ]
  },
  {
   "cell_type": "code",
   "execution_count": 144,
   "metadata": {},
   "outputs": [],
   "source": [
    "# Map SIREN to legal name and vice versa\n",
    "from collections import defaultdict\n",
    "siren_to_legal_name = defaultdict(str)\n",
    "legal_n_to_siren = defaultdict(str)\n",
    "for i,row in df.iterrows():\n",
    "    siren_to_legal_name[row.siren] = row.legal_name\n",
    "    legal_n_to_siren[row.legal_name] = row.siren"
   ]
  },
  {
   "cell_type": "markdown",
   "metadata": {},
   "source": [
    "### Create Result Dictionnary"
   ]
  },
  {
   "cell_type": "code",
   "execution_count": 145,
   "metadata": {},
   "outputs": [],
   "source": [
    "import pickle\n",
    "# Load common names dictionnary\n",
    "file = open('../utilities/legal_to_common_names.obj', 'rb') \n",
    "legal_to_common_name = pickle.load(file)\n"
   ]
  },
  {
   "cell_type": "code",
   "execution_count": 146,
   "metadata": {},
   "outputs": [],
   "source": [
    "def add_eval_set(dataframe, legal_name, nearest_words,method):\n",
    "    occurences_word = defaultdict(int)\n",
    "    df_legal_name = dataframe[(dataframe['legal_name'] == legal_name)]\n",
    "    for i,row in df_legal_name.iterrows():\n",
    "        nearest_words_set = set(nearest_words)\n",
    "        corpus_set = row.corpus\n",
    "        inters_ = nearest_words_set.intersection(corpus_set)\n",
    "        if(method == 'w2v'):\n",
    "            df['eval_set_w2v'][i] =  list(inters_)\n",
    "            df['eval_number_w2v'][i] = len(inters_)\n",
    "        elif(method == 'ft'):\n",
    "            df['eval_set_ft'][i] =  list(inters_)\n",
    "            df['eval_number_ft'][i] = len(inters_)\n",
    "        else:\n",
    "            df['eval_set_glove'][i] =  list(inters_)\n",
    "            df['eval_number_glove'][i] = len(inters_)\n",
    "        for word in inters_:\n",
    "                occurences_word[word] +=1\n",
    "    return occurences_word"
   ]
  },
  {
   "cell_type": "code",
   "execution_count": 147,
   "metadata": {},
   "outputs": [],
   "source": [
    "def create_emb_dict(word):\n",
    "    emb_dict = defaultdict(list)\n",
    "    emb_dict['ft'] = get_most_similar(word,model_ft)\n",
    "    emb_dict['w2v'] = get_most_similar(word,model_w2v)\n",
    "    emb_dict['glove'] = get_most_similar(word,model_glove)\n",
    "    return emb_dict"
   ]
  },
  {
   "cell_type": "code",
   "execution_count": 148,
   "metadata": {},
   "outputs": [],
   "source": [
    "def get_nearest_ft(word):\n",
    "    nearest_words  = model_ft.get_nearest_neighbors(word.lower(),10)\n",
    "    return [[(y),round(x,2)] for x,y in nearest_words]"
   ]
  },
  {
   "cell_type": "code",
   "execution_count": 149,
   "metadata": {},
   "outputs": [],
   "source": [
    "import numpy as np\n",
    "def get_composed_word_vector(composed_word,wordVectors): \n",
    "    res = []\n",
    "    for word in composed_word.split():\n",
    "        if(word.lower() in wordVectors.vocab):\n",
    "            res.append(wordVectors[word.lower()])\n",
    "    if(len(res)==0):\n",
    "        return res \n",
    "    return np.mean(res,axis=0)"
   ]
  },
  {
   "cell_type": "code",
   "execution_count": 150,
   "metadata": {},
   "outputs": [],
   "source": [
    "def get_most_similar(word,model,topn=10):\n",
    "    res = []\n",
    "    if(len(word.split(\" \")) > 0):\n",
    "        vector = get_composed_word_vector(word,model)\n",
    "    else: \n",
    "        vector = model[word.lower()]\n",
    "    if(len(vector)>0):\n",
    "        nearest_words = model.most_similar([vector], topn=topn)\n",
    "        res =  [[(x),round(y,2)] for x,y in nearest_words]\n",
    "    return res"
   ]
  },
  {
   "cell_type": "code",
   "execution_count": 151,
   "metadata": {},
   "outputs": [],
   "source": [
    "def score2(legal_name,word_occurences):\n",
    "    return round((word_occurences / len(df[(df['legal_name'] == legal_name)])),4)\n",
    "               "
   ]
  },
  {
   "cell_type": "code",
   "execution_count": 152,
   "metadata": {},
   "outputs": [],
   "source": [
    "def all_indices(value, qlist):\n",
    "    indices = []\n",
    "    idx = -1\n",
    "    while True:\n",
    "        try:\n",
    "            idx = qlist.index(value, idx+1)\n",
    "            indices.append(idx)\n",
    "        except ValueError:\n",
    "            break\n",
    "    return indices"
   ]
  },
  {
   "cell_type": "code",
   "execution_count": 153,
   "metadata": {},
   "outputs": [],
   "source": [
    "def compute_score2(dataframe,nearest_words, legal_name,method):\n",
    "    occurences_words = add_eval_set(df, legal_name,[x[0] for x in nearest_words],method)\n",
    "    for word in nearest_words: \n",
    "        word.append(score2(legal_name, occurences_words[word[0]]))"
   ]
  },
  {
   "cell_type": "code",
   "execution_count": 154,
   "metadata": {},
   "outputs": [],
   "source": [
    "def get_nearest_from_dict(dict_,legal_name,method):\n",
    "    res = []\n",
    "    common_names_dict = dict_[legal_name] \n",
    "    for common_name in common_names_dict.keys():\n",
    "        #print(dict_[legal_name][common_name])\n",
    "        res.append(dict_[legal_name][common_name][method])\n",
    "    return [y for x in res for y in x]"
   ]
  },
  {
   "cell_type": "code",
   "execution_count": 155,
   "metadata": {},
   "outputs": [],
   "source": [
    "def getTime(start,end):\n",
    "    hours, rem = divmod(end-start, 3600)\n",
    "    minutes, seconds = divmod(rem, 60)\n",
    "    time_since_start = \"Time:  {:0>2}:{:0>2}:{:05.2f}\".format(int(hours),int(minutes),seconds)\n",
    "    return time_since_start"
   ]
  },
  {
   "cell_type": "code",
   "execution_count": 156,
   "metadata": {},
   "outputs": [],
   "source": [
    "def fusion(nearest_words):\n",
    "    word_list = [x[0] for x in nearest_words]\n",
    "    res = []\n",
    "    list_of_pairs = []\n",
    "    for i,word in enumerate(word_list):\n",
    "        indices_word = all_indices(word,word_list)\n",
    "        list_of_pairs.append(indices_word)\n",
    "    list_of_pairs = [list(item) for item in set(tuple(row) for row in list_of_pairs)]\n",
    "    for pairs in list_of_pairs:\n",
    "        if(len(pairs)>1):\n",
    "            res.append(fusion_list([x for j,x in enumerate(nearest_words) if j in pairs ]))\n",
    "        else: \n",
    "            res.append(nearest_words[pairs[0]])\n",
    "    return res\n",
    "    "
   ]
  },
  {
   "cell_type": "code",
   "execution_count": 157,
   "metadata": {},
   "outputs": [],
   "source": [
    "def fusion_list(l):\n",
    "    new_similarity = round(sum([x[1] for x in l]),3)\n",
    "    return [l[0][0], new_similarity, l[0][2]]"
   ]
  },
  {
   "cell_type": "code",
   "execution_count": 158,
   "metadata": {
    "scrolled": true
   },
   "outputs": [
    {
     "name": "stdout",
     "output_type": "stream",
     "text": [
      "0%0%, Time:  00:00:00.00\r"
     ]
    },
    {
     "name": "stderr",
     "output_type": "stream",
     "text": [
      "<ipython-input-146-520e0068ad97>:12: SettingWithCopyWarning: \n",
      "A value is trying to be set on a copy of a slice from a DataFrame\n",
      "\n",
      "See the caveats in the documentation: https://pandas.pydata.org/pandas-docs/stable/user_guide/indexing.html#returning-a-view-versus-a-copy\n",
      "  df['eval_set_ft'][i] =  list(inters_)\n",
      "<ipython-input-146-520e0068ad97>:13: SettingWithCopyWarning: \n",
      "A value is trying to be set on a copy of a slice from a DataFrame\n",
      "\n",
      "See the caveats in the documentation: https://pandas.pydata.org/pandas-docs/stable/user_guide/indexing.html#returning-a-view-versus-a-copy\n",
      "  df['eval_number_ft'][i] = len(inters_)\n",
      "<ipython-input-146-520e0068ad97>:9: SettingWithCopyWarning: \n",
      "A value is trying to be set on a copy of a slice from a DataFrame\n",
      "\n",
      "See the caveats in the documentation: https://pandas.pydata.org/pandas-docs/stable/user_guide/indexing.html#returning-a-view-versus-a-copy\n",
      "  df['eval_set_w2v'][i] =  list(inters_)\n",
      "<ipython-input-146-520e0068ad97>:10: SettingWithCopyWarning: \n",
      "A value is trying to be set on a copy of a slice from a DataFrame\n",
      "\n",
      "See the caveats in the documentation: https://pandas.pydata.org/pandas-docs/stable/user_guide/indexing.html#returning-a-view-versus-a-copy\n",
      "  df['eval_number_w2v'][i] = len(inters_)\n",
      "<ipython-input-146-520e0068ad97>:15: SettingWithCopyWarning: \n",
      "A value is trying to be set on a copy of a slice from a DataFrame\n",
      "\n",
      "See the caveats in the documentation: https://pandas.pydata.org/pandas-docs/stable/user_guide/indexing.html#returning-a-view-versus-a-copy\n",
      "  df['eval_set_glove'][i] =  list(inters_)\n",
      "<ipython-input-146-520e0068ad97>:16: SettingWithCopyWarning: \n",
      "A value is trying to be set on a copy of a slice from a DataFrame\n",
      "\n",
      "See the caveats in the documentation: https://pandas.pydata.org/pandas-docs/stable/user_guide/indexing.html#returning-a-view-versus-a-copy\n",
      "  df['eval_number_glove'][i] = len(inters_)\n"
     ]
    },
    {
     "name": "stdout",
     "output_type": "stream",
     "text": [
      "0%=======70%, Time:  00:05:19.28\r"
     ]
    }
   ],
   "source": [
    "import time\n",
    "nearest = defaultdict(dict)\n",
    "new_nearest = defaultdict(dict)\n",
    "methods = ['ft','w2v','glove']\n",
    "# Create dictionnary with nearest vectors\n",
    "percent = 0\n",
    "start = time.time()\n",
    "for i,legal_name in enumerate(vocab): \n",
    "    # Logging\n",
    "    if(i % 150 == 0):\n",
    "        time_ = getTime(start,time.time())\n",
    "        print(\"0%\" + \"=\" *(int(percent/10))+ str(percent) +\"%, \" + time_, end=\"\\r\" )\n",
    "        percent +=10\n",
    "    legal_name_dict = defaultdict(dict)\n",
    "    nearest[legal_name] = legal_name_dict\n",
    "    siren = legal_n_to_siren[legal_name]\n",
    "    if(siren in legal_to_common_name.keys()):\n",
    "        common_names = legal_to_common_name[siren]\n",
    "        # For each common name compute nearest words per embedding technique \n",
    "        for common_n in common_names:\n",
    "            legal_name_dict[common_n] = create_emb_dict(common_n)     \n",
    "    else:\n",
    "        legal_name_dict[legal_name] = emb_dict\n",
    "    legal_name_dict = defaultdict(list)\n",
    "    new_nearest[legal_name] = legal_name_dict\n",
    "    for method in methods:\n",
    "        fusioned_dict = defaultdict(list)\n",
    "        # Compute score2\n",
    "        compute_score2(df,get_nearest_from_dict(nearest,legal_name,method),legal_name,method)\n",
    "        # Fusion result of each common name\n",
    "        nearest_fusioned = fusion(get_nearest_from_dict(nearest,legal_name,method))\n",
    "        #nearest_fusioned\n",
    "        legal_name_dict[method] = nearest_fusioned\n",
    "        # Compute Gobal Score to evaluate method\n",
    "        sgx1 = round(sum(x[1] for x in nearest_fusioned),3)\n",
    "        sgx2 = round(sum(x[2]for x in nearest_fusioned),3)\n",
    "        sgx3 = sgx1*sgx2\n",
    "        scores = [('sgx1',sgx1),('sgx2',sgx2),('sgx3',sgx3)]\n",
    "        legal_name_dict[method].insert(0,scores)"
   ]
  },
  {
   "cell_type": "code",
   "execution_count": 161,
   "metadata": {},
   "outputs": [],
   "source": [
    "df.to_csv(results_path + 'results' + dt_string + '.csv')"
   ]
  },
  {
   "cell_type": "code",
   "execution_count": 162,
   "metadata": {},
   "outputs": [
    {
     "name": "stdout",
     "output_type": "stream",
     "text": [
      "1.6990412023840373\n",
      "1.3848665457372376\n",
      "2.002487691111687\n"
     ]
    }
   ],
   "source": [
    "ftEval = df['eval_number_ft'].mean()\n",
    "w2vEval = df['eval_number_w2v'].mean()\n",
    "gloveEval = df['eval_number_glove'].mean()\n",
    "print(\"Average number of disciminating words per article for fastText:\" + str(ftEval))\n",
    "print(\"Average number of disciminating words per article for fastText:\" + str(w2vEval))\n",
    "print(\"Average number of disciminating words per article for fastText:\" + str(gloveEval))"
   ]
  },
  {
   "cell_type": "code",
   "execution_count": 163,
   "metadata": {},
   "outputs": [],
   "source": [
    "import json\n",
    "import codecs\n",
    "\n",
    "with codecs.open(results_path + 'results-with-fusion.json', 'w',encoding='utf-8') as fp:\n",
    "    json.dump(nearest,fp,indent=4,ensure_ascii=False)"
   ]
  },
  {
   "cell_type": "markdown",
   "metadata": {},
   "source": [
    "### Prediction "
   ]
  },
  {
   "cell_type": "code",
   "execution_count": 41,
   "metadata": {},
   "outputs": [],
   "source": [
    "# DataSetPath \n",
    "prediction_path = utilities_path + ''"
   ]
  },
  {
   "cell_type": "code",
   "execution_count": 101,
   "metadata": {},
   "outputs": [
    {
     "data": {
      "text/html": [
       "<div>\n",
       "<style scoped>\n",
       "    .dataframe tbody tr th:only-of-type {\n",
       "        vertical-align: middle;\n",
       "    }\n",
       "\n",
       "    .dataframe tbody tr th {\n",
       "        vertical-align: top;\n",
       "    }\n",
       "\n",
       "    .dataframe thead th {\n",
       "        text-align: right;\n",
       "    }\n",
       "</style>\n",
       "<table border=\"1\" class=\"dataframe\">\n",
       "  <thead>\n",
       "    <tr style=\"text-align: right;\">\n",
       "      <th></th>\n",
       "      <th>Unnamed: 0</th>\n",
       "      <th>url_article</th>\n",
       "      <th>siren</th>\n",
       "      <th>corpus</th>\n",
       "      <th>legal_name</th>\n",
       "      <th>prediction</th>\n",
       "    </tr>\n",
       "  </thead>\n",
       "  <tbody>\n",
       "    <tr>\n",
       "      <th>0</th>\n",
       "      <td>25</td>\n",
       "      <td>http://www.boursier.com/actions/actualites/new...</td>\n",
       "      <td>421203993</td>\n",
       "      <td>accès industrie : renoue avec les bénéfices en...</td>\n",
       "      <td>ACCES INDUSTRIE</td>\n",
       "      <td></td>\n",
       "    </tr>\n",
       "    <tr>\n",
       "      <th>1</th>\n",
       "      <td>26</td>\n",
       "      <td>https://www.agence-api.fr/article/novelis-pass...</td>\n",
       "      <td>421203993</td>\n",
       "      <td>novelis passe dans le giron d’accès industrie ...</td>\n",
       "      <td>ACCES INDUSTRIE</td>\n",
       "      <td></td>\n",
       "    </tr>\n",
       "    <tr>\n",
       "      <th>2</th>\n",
       "      <td>27</td>\n",
       "      <td>http://www.boursier.com/actions/actualites/new...</td>\n",
       "      <td>421203993</td>\n",
       "      <td>accès industrie : en légère croissance sur moi...</td>\n",
       "      <td>ACCES INDUSTRIE</td>\n",
       "      <td></td>\n",
       "    </tr>\n",
       "    <tr>\n",
       "      <th>3</th>\n",
       "      <td>28</td>\n",
       "      <td>http://www.boursier.com/actions/actualites/new...</td>\n",
       "      <td>421203993</td>\n",
       "      <td>parquest dépose une offre ferme pour racheter ...</td>\n",
       "      <td>ACCES INDUSTRIE</td>\n",
       "      <td></td>\n",
       "    </tr>\n",
       "    <tr>\n",
       "      <th>4</th>\n",
       "      <td>29</td>\n",
       "      <td>http://www.boursier.com/actions/actualites/new...</td>\n",
       "      <td>421203993</td>\n",
       "      <td>bonne surprise en début d'année pour accès ind...</td>\n",
       "      <td>ACCES INDUSTRIE</td>\n",
       "      <td></td>\n",
       "    </tr>\n",
       "    <tr>\n",
       "      <th>...</th>\n",
       "      <td>...</td>\n",
       "      <td>...</td>\n",
       "      <td>...</td>\n",
       "      <td>...</td>\n",
       "      <td>...</td>\n",
       "      <td>...</td>\n",
       "    </tr>\n",
       "    <tr>\n",
       "      <th>2530</th>\n",
       "      <td>7270</td>\n",
       "      <td>http://www.lefigaro.fr/medias/2018/01/19/20004...</td>\n",
       "      <td>432766947</td>\n",
       "      <td>takis candilis rejoint france télévisions les ...</td>\n",
       "      <td>FRANCE TELEVISIONS</td>\n",
       "      <td></td>\n",
       "    </tr>\n",
       "    <tr>\n",
       "      <th>2531</th>\n",
       "      <td>7271</td>\n",
       "      <td>http://www.cbnews.fr/digital/jo-d-hiver-2018-f...</td>\n",
       "      <td>432766947</td>\n",
       "      <td>jo d’hiver : france télévisions lance un assis...</td>\n",
       "      <td>FRANCE TELEVISIONS</td>\n",
       "      <td></td>\n",
       "    </tr>\n",
       "    <tr>\n",
       "      <th>2532</th>\n",
       "      <td>7272</td>\n",
       "      <td>http://www.cbnews.fr/mouvements/france-televis...</td>\n",
       "      <td>432766947</td>\n",
       "      <td>france télévisions : bertrand scirpo délégué à...</td>\n",
       "      <td>FRANCE TELEVISIONS</td>\n",
       "      <td></td>\n",
       "    </tr>\n",
       "    <tr>\n",
       "      <th>2533</th>\n",
       "      <td>7273</td>\n",
       "      <td>http://www.cbnews.fr/medias/france-televisions...</td>\n",
       "      <td>432766947</td>\n",
       "      <td>france télévisions va réduire ses effectifs sa...</td>\n",
       "      <td>FRANCE TELEVISIONS</td>\n",
       "      <td></td>\n",
       "    </tr>\n",
       "    <tr>\n",
       "      <th>2534</th>\n",
       "      <td>7274</td>\n",
       "      <td>http://www.lefigaro.fr/medias/france-televisio...</td>\n",
       "      <td>432766947</td>\n",
       "      <td>france télévisions: delphine ernotte a fixé le...</td>\n",
       "      <td>FRANCE TELEVISIONS</td>\n",
       "      <td></td>\n",
       "    </tr>\n",
       "  </tbody>\n",
       "</table>\n",
       "<p>2535 rows × 6 columns</p>\n",
       "</div>"
      ],
      "text/plain": [
       "      Unnamed: 0                                        url_article  \\\n",
       "0             25  http://www.boursier.com/actions/actualites/new...   \n",
       "1             26  https://www.agence-api.fr/article/novelis-pass...   \n",
       "2             27  http://www.boursier.com/actions/actualites/new...   \n",
       "3             28  http://www.boursier.com/actions/actualites/new...   \n",
       "4             29  http://www.boursier.com/actions/actualites/new...   \n",
       "...          ...                                                ...   \n",
       "2530        7270  http://www.lefigaro.fr/medias/2018/01/19/20004...   \n",
       "2531        7271  http://www.cbnews.fr/digital/jo-d-hiver-2018-f...   \n",
       "2532        7272  http://www.cbnews.fr/mouvements/france-televis...   \n",
       "2533        7273  http://www.cbnews.fr/medias/france-televisions...   \n",
       "2534        7274  http://www.lefigaro.fr/medias/france-televisio...   \n",
       "\n",
       "          siren                                             corpus  \\\n",
       "0     421203993  accès industrie : renoue avec les bénéfices en...   \n",
       "1     421203993  novelis passe dans le giron d’accès industrie ...   \n",
       "2     421203993  accès industrie : en légère croissance sur moi...   \n",
       "3     421203993  parquest dépose une offre ferme pour racheter ...   \n",
       "4     421203993  bonne surprise en début d'année pour accès ind...   \n",
       "...         ...                                                ...   \n",
       "2530  432766947  takis candilis rejoint france télévisions les ...   \n",
       "2531  432766947  jo d’hiver : france télévisions lance un assis...   \n",
       "2532  432766947  france télévisions : bertrand scirpo délégué à...   \n",
       "2533  432766947  france télévisions va réduire ses effectifs sa...   \n",
       "2534  432766947  france télévisions: delphine ernotte a fixé le...   \n",
       "\n",
       "              legal_name prediction  \n",
       "0        ACCES INDUSTRIE             \n",
       "1        ACCES INDUSTRIE             \n",
       "2        ACCES INDUSTRIE             \n",
       "3        ACCES INDUSTRIE             \n",
       "4        ACCES INDUSTRIE             \n",
       "...                  ...        ...  \n",
       "2530  FRANCE TELEVISIONS             \n",
       "2531  FRANCE TELEVISIONS             \n",
       "2532  FRANCE TELEVISIONS             \n",
       "2533  FRANCE TELEVISIONS             \n",
       "2534  FRANCE TELEVISIONS             \n",
       "\n",
       "[2535 rows x 6 columns]"
      ]
     },
     "execution_count": 101,
     "metadata": {},
     "output_type": "execute_result"
    }
   ],
   "source": [
    "df_prediction = pd.read_csv('../data/prediction.csv')\n",
    "df_prediction\n",
    "df_prediction['legal_name'] = df_prediction['siren'].apply(lambda siren: siren_to_legal_name[siren])\n",
    "df_prediction['prediction'] = \"\"\n",
    "df_prediction"
   ]
  },
  {
   "cell_type": "code",
   "execution_count": 78,
   "metadata": {},
   "outputs": [],
   "source": [
    "vocab_predictions  = set(df_prediction.siren)\n",
    "                         "
   ]
  },
  {
   "cell_type": "code",
   "execution_count": 120,
   "metadata": {},
   "outputs": [],
   "source": [
    "siren_to_emb = defaultdict()\n",
    "for siren in vocab_predictions: \n",
    "    legal_name = siren_to_legal_name[siren]\n",
    "    vec_legal_name = get_composed_word_vector(legal_name,model_glove)  \n",
    "    siren_to_emb[siren] = vec_legal_name"
   ]
  },
  {
   "cell_type": "code",
   "execution_count": 126,
   "metadata": {},
   "outputs": [],
   "source": [
    "from operator import itemgetter\n",
    "def most_similar_legal_name(corpus,model):\n",
    "    vector_corpus = get_composed_word_vector(corpus,model)\n",
    "    results = []\n",
    "    for siren in vocab_predictions:\n",
    "        vec_legal_name = siren_to_emb[siren]\n",
    "        if(len(vec_legal_name)>0):\n",
    "            result = spatial.distance.cosine(vector_corpus, vec_legal_name)\n",
    "            results.append((result,siren_to_legal_name[siren]))\n",
    "    final_res = min(results,key=itemgetter(0)) \n",
    "    return final_res[1]\n"
   ]
  },
  {
   "cell_type": "code",
   "execution_count": 127,
   "metadata": {
    "scrolled": true
   },
   "outputs": [
    {
     "name": "stdout",
     "output_type": "stream",
     "text": [
      "10%done\n"
     ]
    },
    {
     "name": "stderr",
     "output_type": "stream",
     "text": [
      "<ipython-input-127-8291c03b60f7>:4: SettingWithCopyWarning: \n",
      "A value is trying to be set on a copy of a slice from a DataFrame\n",
      "\n",
      "See the caveats in the documentation: https://pandas.pydata.org/pandas-docs/stable/user_guide/indexing.html#returning-a-view-versus-a-copy\n",
      "  df_prediction.prediction[i] = most_similar_legal_name(row['corpus'],model_glove)\n"
     ]
    },
    {
     "name": "stdout",
     "output_type": "stream",
     "text": [
      "10%done\n",
      "10%done\n",
      "10%done\n",
      "10%done\n",
      "10%done\n",
      "10%done\n",
      "10%done\n",
      "10%done\n",
      "10%done\n",
      "10%done\n"
     ]
    }
   ],
   "source": [
    "for i,row in df_prediction.iterrows():\n",
    "    if(i%250 == 0):\n",
    "        print(\"10%done\")\n",
    "    df_prediction.prediction[i] = most_similar_legal_name(row['corpus'],model_glove)"
   ]
  },
  {
   "cell_type": "code",
   "execution_count": 128,
   "metadata": {},
   "outputs": [
    {
     "data": {
      "text/html": [
       "<div>\n",
       "<style scoped>\n",
       "    .dataframe tbody tr th:only-of-type {\n",
       "        vertical-align: middle;\n",
       "    }\n",
       "\n",
       "    .dataframe tbody tr th {\n",
       "        vertical-align: top;\n",
       "    }\n",
       "\n",
       "    .dataframe thead th {\n",
       "        text-align: right;\n",
       "    }\n",
       "</style>\n",
       "<table border=\"1\" class=\"dataframe\">\n",
       "  <thead>\n",
       "    <tr style=\"text-align: right;\">\n",
       "      <th></th>\n",
       "      <th>Unnamed: 0</th>\n",
       "      <th>url_article</th>\n",
       "      <th>siren</th>\n",
       "      <th>corpus</th>\n",
       "      <th>legal_name</th>\n",
       "      <th>prediction</th>\n",
       "    </tr>\n",
       "  </thead>\n",
       "  <tbody>\n",
       "    <tr>\n",
       "      <th>0</th>\n",
       "      <td>25</td>\n",
       "      <td>http://www.boursier.com/actions/actualites/new...</td>\n",
       "      <td>421203993</td>\n",
       "      <td>accès industrie : renoue avec les bénéfices en...</td>\n",
       "      <td>ACCES INDUSTRIE</td>\n",
       "      <td>ELECTRICITE DE FRANCE</td>\n",
       "    </tr>\n",
       "    <tr>\n",
       "      <th>1</th>\n",
       "      <td>26</td>\n",
       "      <td>https://www.agence-api.fr/article/novelis-pass...</td>\n",
       "      <td>421203993</td>\n",
       "      <td>novelis passe dans le giron d’accès industrie ...</td>\n",
       "      <td>ACCES INDUSTRIE</td>\n",
       "      <td>ELECTRICITE DE FRANCE</td>\n",
       "    </tr>\n",
       "    <tr>\n",
       "      <th>2</th>\n",
       "      <td>27</td>\n",
       "      <td>http://www.boursier.com/actions/actualites/new...</td>\n",
       "      <td>421203993</td>\n",
       "      <td>accès industrie : en légère croissance sur moi...</td>\n",
       "      <td>ACCES INDUSTRIE</td>\n",
       "      <td>ELECTRICITE DE FRANCE</td>\n",
       "    </tr>\n",
       "    <tr>\n",
       "      <th>3</th>\n",
       "      <td>28</td>\n",
       "      <td>http://www.boursier.com/actions/actualites/new...</td>\n",
       "      <td>421203993</td>\n",
       "      <td>parquest dépose une offre ferme pour racheter ...</td>\n",
       "      <td>ACCES INDUSTRIE</td>\n",
       "      <td>ELECTRICITE DE FRANCE</td>\n",
       "    </tr>\n",
       "    <tr>\n",
       "      <th>4</th>\n",
       "      <td>29</td>\n",
       "      <td>http://www.boursier.com/actions/actualites/new...</td>\n",
       "      <td>421203993</td>\n",
       "      <td>bonne surprise en début d'année pour accès ind...</td>\n",
       "      <td>ACCES INDUSTRIE</td>\n",
       "      <td>ELECTRICITE DE FRANCE</td>\n",
       "    </tr>\n",
       "    <tr>\n",
       "      <th>...</th>\n",
       "      <td>...</td>\n",
       "      <td>...</td>\n",
       "      <td>...</td>\n",
       "      <td>...</td>\n",
       "      <td>...</td>\n",
       "      <td>...</td>\n",
       "    </tr>\n",
       "    <tr>\n",
       "      <th>2530</th>\n",
       "      <td>7270</td>\n",
       "      <td>http://www.lefigaro.fr/medias/2018/01/19/20004...</td>\n",
       "      <td>432766947</td>\n",
       "      <td>takis candilis rejoint france télévisions les ...</td>\n",
       "      <td>FRANCE TELEVISIONS</td>\n",
       "      <td>ELECTRICITE DE FRANCE</td>\n",
       "    </tr>\n",
       "    <tr>\n",
       "      <th>2531</th>\n",
       "      <td>7271</td>\n",
       "      <td>http://www.cbnews.fr/digital/jo-d-hiver-2018-f...</td>\n",
       "      <td>432766947</td>\n",
       "      <td>jo d’hiver : france télévisions lance un assis...</td>\n",
       "      <td>FRANCE TELEVISIONS</td>\n",
       "      <td>ELECTRICITE DE FRANCE</td>\n",
       "    </tr>\n",
       "    <tr>\n",
       "      <th>2532</th>\n",
       "      <td>7272</td>\n",
       "      <td>http://www.cbnews.fr/mouvements/france-televis...</td>\n",
       "      <td>432766947</td>\n",
       "      <td>france télévisions : bertrand scirpo délégué à...</td>\n",
       "      <td>FRANCE TELEVISIONS</td>\n",
       "      <td>ELECTRICITE DE FRANCE</td>\n",
       "    </tr>\n",
       "    <tr>\n",
       "      <th>2533</th>\n",
       "      <td>7273</td>\n",
       "      <td>http://www.cbnews.fr/medias/france-televisions...</td>\n",
       "      <td>432766947</td>\n",
       "      <td>france télévisions va réduire ses effectifs sa...</td>\n",
       "      <td>FRANCE TELEVISIONS</td>\n",
       "      <td>ELECTRICITE DE FRANCE</td>\n",
       "    </tr>\n",
       "    <tr>\n",
       "      <th>2534</th>\n",
       "      <td>7274</td>\n",
       "      <td>http://www.lefigaro.fr/medias/france-televisio...</td>\n",
       "      <td>432766947</td>\n",
       "      <td>france télévisions: delphine ernotte a fixé le...</td>\n",
       "      <td>FRANCE TELEVISIONS</td>\n",
       "      <td>ELECTRICITE DE FRANCE</td>\n",
       "    </tr>\n",
       "  </tbody>\n",
       "</table>\n",
       "<p>2535 rows × 6 columns</p>\n",
       "</div>"
      ],
      "text/plain": [
       "      Unnamed: 0                                        url_article  \\\n",
       "0             25  http://www.boursier.com/actions/actualites/new...   \n",
       "1             26  https://www.agence-api.fr/article/novelis-pass...   \n",
       "2             27  http://www.boursier.com/actions/actualites/new...   \n",
       "3             28  http://www.boursier.com/actions/actualites/new...   \n",
       "4             29  http://www.boursier.com/actions/actualites/new...   \n",
       "...          ...                                                ...   \n",
       "2530        7270  http://www.lefigaro.fr/medias/2018/01/19/20004...   \n",
       "2531        7271  http://www.cbnews.fr/digital/jo-d-hiver-2018-f...   \n",
       "2532        7272  http://www.cbnews.fr/mouvements/france-televis...   \n",
       "2533        7273  http://www.cbnews.fr/medias/france-televisions...   \n",
       "2534        7274  http://www.lefigaro.fr/medias/france-televisio...   \n",
       "\n",
       "          siren                                             corpus  \\\n",
       "0     421203993  accès industrie : renoue avec les bénéfices en...   \n",
       "1     421203993  novelis passe dans le giron d’accès industrie ...   \n",
       "2     421203993  accès industrie : en légère croissance sur moi...   \n",
       "3     421203993  parquest dépose une offre ferme pour racheter ...   \n",
       "4     421203993  bonne surprise en début d'année pour accès ind...   \n",
       "...         ...                                                ...   \n",
       "2530  432766947  takis candilis rejoint france télévisions les ...   \n",
       "2531  432766947  jo d’hiver : france télévisions lance un assis...   \n",
       "2532  432766947  france télévisions : bertrand scirpo délégué à...   \n",
       "2533  432766947  france télévisions va réduire ses effectifs sa...   \n",
       "2534  432766947  france télévisions: delphine ernotte a fixé le...   \n",
       "\n",
       "              legal_name             prediction  \n",
       "0        ACCES INDUSTRIE  ELECTRICITE DE FRANCE  \n",
       "1        ACCES INDUSTRIE  ELECTRICITE DE FRANCE  \n",
       "2        ACCES INDUSTRIE  ELECTRICITE DE FRANCE  \n",
       "3        ACCES INDUSTRIE  ELECTRICITE DE FRANCE  \n",
       "4        ACCES INDUSTRIE  ELECTRICITE DE FRANCE  \n",
       "...                  ...                    ...  \n",
       "2530  FRANCE TELEVISIONS  ELECTRICITE DE FRANCE  \n",
       "2531  FRANCE TELEVISIONS  ELECTRICITE DE FRANCE  \n",
       "2532  FRANCE TELEVISIONS  ELECTRICITE DE FRANCE  \n",
       "2533  FRANCE TELEVISIONS  ELECTRICITE DE FRANCE  \n",
       "2534  FRANCE TELEVISIONS  ELECTRICITE DE FRANCE  \n",
       "\n",
       "[2535 rows x 6 columns]"
      ]
     },
     "execution_count": 128,
     "metadata": {},
     "output_type": "execute_result"
    }
   ],
   "source": [
    "df_prediction"
   ]
  },
  {
   "cell_type": "code",
   "execution_count": null,
   "metadata": {},
   "outputs": [],
   "source": []
  }
 ],
 "metadata": {
  "kernelspec": {
   "display_name": "Python 3",
   "language": "python",
   "name": "python3"
  },
  "language_info": {
   "codemirror_mode": {
    "name": "ipython",
    "version": 3
   },
   "file_extension": ".py",
   "mimetype": "text/x-python",
   "name": "python",
   "nbconvert_exporter": "python",
   "pygments_lexer": "ipython3",
   "version": "3.8.2"
  }
 },
 "nbformat": 4,
 "nbformat_minor": 2
}
